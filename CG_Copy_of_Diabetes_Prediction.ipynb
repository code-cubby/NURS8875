{
  "nbformat": 4,
  "nbformat_minor": 0,
  "metadata": {
    "colab": {
      "name": " CG Copy of Diabetes Prediction",
      "provenance": [],
      "collapsed_sections": [],
      "include_colab_link": true
    },
    "kernelspec": {
      "name": "python3",
      "display_name": "Python 3"
    },
    "language_info": {
      "name": "python"
    }
  },
  "cells": [
    {
      "cell_type": "markdown",
      "metadata": {
        "id": "view-in-github",
        "colab_type": "text"
      },
      "source": [
        "<a href=\"https://colab.research.google.com/github/code-cubby/NURS8875/blob/main/CG_Copy_of_Diabetes_Prediction.ipynb\" target=\"_parent\"><img src=\"https://colab.research.google.com/assets/colab-badge.svg\" alt=\"Open In Colab\"/></a>"
      ]
    },
    {
      "cell_type": "code",
      "metadata": {
        "colab": {
          "base_uri": "https://localhost:8080/"
        },
        "id": "1wTQ5xMfEzOQ",
        "outputId": "25dc5121-c37a-4bad-b69e-19d7576d2d5d"
      },
      "source": [
        "import sys\n",
        "import pandas\n",
        "import numpy\n",
        "import sklearn\n",
        "import keras\n",
        "import tensorflow as tf\n",
        "\n",
        "print('Python: {}'.format(sys.version))\n",
        "print('Python: {}'.format(pandas.__version__))\n",
        "print('Python: {}'.format(numpy.__version__))\n",
        "print('Python: {}'.format(sklearn.__version__))\n",
        "print('Python: {}'.format(keras.__version__))\n",
        "print(\"TensorFlow version:\", tf.__version__)"
      ],
      "execution_count": 1,
      "outputs": [
        {
          "output_type": "stream",
          "name": "stdout",
          "text": [
            "Python: 3.7.12 (default, Sep 10 2021, 00:21:48) \n",
            "[GCC 7.5.0]\n",
            "Python: 1.1.5\n",
            "Python: 1.19.5\n",
            "Python: 0.22.2.post1\n",
            "Python: 2.6.0\n",
            "TensorFlow version: 2.6.0\n"
          ]
        }
      ]
    },
    {
      "cell_type": "code",
      "metadata": {
        "id": "JAZTKcM5HC62"
      },
      "source": [
        "import pandas as pd\n",
        "import numpy as np\n",
        "#import the diabetes dataset\n",
        "url = \"https://raw.githubusercontent.com/jbrownlee/Datasets/master/pima-indians-diabetes.data.csv\"\n",
        "names = ['n_pregnant','glucose_concentration','blood_pressure (mm Hg)','skin_thickness (mm)','serum_insulin (mm U/ml)','BMI','pedigree_funcation','age','class']\n",
        "df = pd.read_csv(url, names=names)\n"
      ],
      "execution_count": 2,
      "outputs": []
    },
    {
      "cell_type": "code",
      "metadata": {
        "colab": {
          "base_uri": "https://localhost:8080/",
          "height": 297
        },
        "id": "eSO2rB1QIRIS",
        "outputId": "b1ee2b5d-a77b-42ac-96f5-4bf340626958"
      },
      "source": [
        "#describe the data\n",
        "df.describe()"
      ],
      "execution_count": 3,
      "outputs": [
        {
          "output_type": "execute_result",
          "data": {
            "text/html": [
              "<div>\n",
              "<style scoped>\n",
              "    .dataframe tbody tr th:only-of-type {\n",
              "        vertical-align: middle;\n",
              "    }\n",
              "\n",
              "    .dataframe tbody tr th {\n",
              "        vertical-align: top;\n",
              "    }\n",
              "\n",
              "    .dataframe thead th {\n",
              "        text-align: right;\n",
              "    }\n",
              "</style>\n",
              "<table border=\"1\" class=\"dataframe\">\n",
              "  <thead>\n",
              "    <tr style=\"text-align: right;\">\n",
              "      <th></th>\n",
              "      <th>n_pregnant</th>\n",
              "      <th>glucose_concentration</th>\n",
              "      <th>blood_pressure (mm Hg)</th>\n",
              "      <th>skin_thickness (mm)</th>\n",
              "      <th>serum_insulin (mm U/ml)</th>\n",
              "      <th>BMI</th>\n",
              "      <th>pedigree_funcation</th>\n",
              "      <th>age</th>\n",
              "      <th>class</th>\n",
              "    </tr>\n",
              "  </thead>\n",
              "  <tbody>\n",
              "    <tr>\n",
              "      <th>count</th>\n",
              "      <td>768.000000</td>\n",
              "      <td>768.000000</td>\n",
              "      <td>768.000000</td>\n",
              "      <td>768.000000</td>\n",
              "      <td>768.000000</td>\n",
              "      <td>768.000000</td>\n",
              "      <td>768.000000</td>\n",
              "      <td>768.000000</td>\n",
              "      <td>768.000000</td>\n",
              "    </tr>\n",
              "    <tr>\n",
              "      <th>mean</th>\n",
              "      <td>3.845052</td>\n",
              "      <td>120.894531</td>\n",
              "      <td>69.105469</td>\n",
              "      <td>20.536458</td>\n",
              "      <td>79.799479</td>\n",
              "      <td>31.992578</td>\n",
              "      <td>0.471876</td>\n",
              "      <td>33.240885</td>\n",
              "      <td>0.348958</td>\n",
              "    </tr>\n",
              "    <tr>\n",
              "      <th>std</th>\n",
              "      <td>3.369578</td>\n",
              "      <td>31.972618</td>\n",
              "      <td>19.355807</td>\n",
              "      <td>15.952218</td>\n",
              "      <td>115.244002</td>\n",
              "      <td>7.884160</td>\n",
              "      <td>0.331329</td>\n",
              "      <td>11.760232</td>\n",
              "      <td>0.476951</td>\n",
              "    </tr>\n",
              "    <tr>\n",
              "      <th>min</th>\n",
              "      <td>0.000000</td>\n",
              "      <td>0.000000</td>\n",
              "      <td>0.000000</td>\n",
              "      <td>0.000000</td>\n",
              "      <td>0.000000</td>\n",
              "      <td>0.000000</td>\n",
              "      <td>0.078000</td>\n",
              "      <td>21.000000</td>\n",
              "      <td>0.000000</td>\n",
              "    </tr>\n",
              "    <tr>\n",
              "      <th>25%</th>\n",
              "      <td>1.000000</td>\n",
              "      <td>99.000000</td>\n",
              "      <td>62.000000</td>\n",
              "      <td>0.000000</td>\n",
              "      <td>0.000000</td>\n",
              "      <td>27.300000</td>\n",
              "      <td>0.243750</td>\n",
              "      <td>24.000000</td>\n",
              "      <td>0.000000</td>\n",
              "    </tr>\n",
              "    <tr>\n",
              "      <th>50%</th>\n",
              "      <td>3.000000</td>\n",
              "      <td>117.000000</td>\n",
              "      <td>72.000000</td>\n",
              "      <td>23.000000</td>\n",
              "      <td>30.500000</td>\n",
              "      <td>32.000000</td>\n",
              "      <td>0.372500</td>\n",
              "      <td>29.000000</td>\n",
              "      <td>0.000000</td>\n",
              "    </tr>\n",
              "    <tr>\n",
              "      <th>75%</th>\n",
              "      <td>6.000000</td>\n",
              "      <td>140.250000</td>\n",
              "      <td>80.000000</td>\n",
              "      <td>32.000000</td>\n",
              "      <td>127.250000</td>\n",
              "      <td>36.600000</td>\n",
              "      <td>0.626250</td>\n",
              "      <td>41.000000</td>\n",
              "      <td>1.000000</td>\n",
              "    </tr>\n",
              "    <tr>\n",
              "      <th>max</th>\n",
              "      <td>17.000000</td>\n",
              "      <td>199.000000</td>\n",
              "      <td>122.000000</td>\n",
              "      <td>99.000000</td>\n",
              "      <td>846.000000</td>\n",
              "      <td>67.100000</td>\n",
              "      <td>2.420000</td>\n",
              "      <td>81.000000</td>\n",
              "      <td>1.000000</td>\n",
              "    </tr>\n",
              "  </tbody>\n",
              "</table>\n",
              "</div>"
            ],
            "text/plain": [
              "       n_pregnant  glucose_concentration  ...         age       class\n",
              "count  768.000000             768.000000  ...  768.000000  768.000000\n",
              "mean     3.845052             120.894531  ...   33.240885    0.348958\n",
              "std      3.369578              31.972618  ...   11.760232    0.476951\n",
              "min      0.000000               0.000000  ...   21.000000    0.000000\n",
              "25%      1.000000              99.000000  ...   24.000000    0.000000\n",
              "50%      3.000000             117.000000  ...   29.000000    0.000000\n",
              "75%      6.000000             140.250000  ...   41.000000    1.000000\n",
              "max     17.000000             199.000000  ...   81.000000    1.000000\n",
              "\n",
              "[8 rows x 9 columns]"
            ]
          },
          "metadata": {},
          "execution_count": 3
        }
      ]
    },
    {
      "cell_type": "code",
      "metadata": {
        "colab": {
          "base_uri": "https://localhost:8080/",
          "height": 204
        },
        "id": "2aVaHFGSIcTW",
        "outputId": "af6139e7-6730-4795-f75a-d7e9d85854df"
      },
      "source": [
        "#sort data\n",
        "df[df['glucose_concentration'] == 0]"
      ],
      "execution_count": 4,
      "outputs": [
        {
          "output_type": "execute_result",
          "data": {
            "text/html": [
              "<div>\n",
              "<style scoped>\n",
              "    .dataframe tbody tr th:only-of-type {\n",
              "        vertical-align: middle;\n",
              "    }\n",
              "\n",
              "    .dataframe tbody tr th {\n",
              "        vertical-align: top;\n",
              "    }\n",
              "\n",
              "    .dataframe thead th {\n",
              "        text-align: right;\n",
              "    }\n",
              "</style>\n",
              "<table border=\"1\" class=\"dataframe\">\n",
              "  <thead>\n",
              "    <tr style=\"text-align: right;\">\n",
              "      <th></th>\n",
              "      <th>n_pregnant</th>\n",
              "      <th>glucose_concentration</th>\n",
              "      <th>blood_pressure (mm Hg)</th>\n",
              "      <th>skin_thickness (mm)</th>\n",
              "      <th>serum_insulin (mm U/ml)</th>\n",
              "      <th>BMI</th>\n",
              "      <th>pedigree_funcation</th>\n",
              "      <th>age</th>\n",
              "      <th>class</th>\n",
              "    </tr>\n",
              "  </thead>\n",
              "  <tbody>\n",
              "    <tr>\n",
              "      <th>75</th>\n",
              "      <td>1</td>\n",
              "      <td>0</td>\n",
              "      <td>48</td>\n",
              "      <td>20</td>\n",
              "      <td>0</td>\n",
              "      <td>24.7</td>\n",
              "      <td>0.140</td>\n",
              "      <td>22</td>\n",
              "      <td>0</td>\n",
              "    </tr>\n",
              "    <tr>\n",
              "      <th>182</th>\n",
              "      <td>1</td>\n",
              "      <td>0</td>\n",
              "      <td>74</td>\n",
              "      <td>20</td>\n",
              "      <td>23</td>\n",
              "      <td>27.7</td>\n",
              "      <td>0.299</td>\n",
              "      <td>21</td>\n",
              "      <td>0</td>\n",
              "    </tr>\n",
              "    <tr>\n",
              "      <th>342</th>\n",
              "      <td>1</td>\n",
              "      <td>0</td>\n",
              "      <td>68</td>\n",
              "      <td>35</td>\n",
              "      <td>0</td>\n",
              "      <td>32.0</td>\n",
              "      <td>0.389</td>\n",
              "      <td>22</td>\n",
              "      <td>0</td>\n",
              "    </tr>\n",
              "    <tr>\n",
              "      <th>349</th>\n",
              "      <td>5</td>\n",
              "      <td>0</td>\n",
              "      <td>80</td>\n",
              "      <td>32</td>\n",
              "      <td>0</td>\n",
              "      <td>41.0</td>\n",
              "      <td>0.346</td>\n",
              "      <td>37</td>\n",
              "      <td>1</td>\n",
              "    </tr>\n",
              "    <tr>\n",
              "      <th>502</th>\n",
              "      <td>6</td>\n",
              "      <td>0</td>\n",
              "      <td>68</td>\n",
              "      <td>41</td>\n",
              "      <td>0</td>\n",
              "      <td>39.0</td>\n",
              "      <td>0.727</td>\n",
              "      <td>41</td>\n",
              "      <td>1</td>\n",
              "    </tr>\n",
              "  </tbody>\n",
              "</table>\n",
              "</div>"
            ],
            "text/plain": [
              "     n_pregnant  glucose_concentration  ...  age  class\n",
              "75            1                      0  ...   22      0\n",
              "182           1                      0  ...   21      0\n",
              "342           1                      0  ...   22      0\n",
              "349           5                      0  ...   37      1\n",
              "502           6                      0  ...   41      1\n",
              "\n",
              "[5 rows x 9 columns]"
            ]
          },
          "metadata": {},
          "execution_count": 4
        }
      ]
    },
    {
      "cell_type": "code",
      "metadata": {
        "colab": {
          "base_uri": "https://localhost:8080/",
          "height": 297
        },
        "id": "sSb65loPIpj5",
        "outputId": "cb621dc1-a16a-4f77-df52-10ab6377917e"
      },
      "source": [
        "#locate missing values\n",
        "columns = ['glucose_concentration','blood_pressure (mm Hg)','skin_thickness (mm)','serum_insulin (mm U/ml)','BMI']\n",
        "for col in columns:\n",
        "  df[col].replace(0, np.NaN, inplace=True)\n",
        "\n",
        "df.describe()"
      ],
      "execution_count": 5,
      "outputs": [
        {
          "output_type": "execute_result",
          "data": {
            "text/html": [
              "<div>\n",
              "<style scoped>\n",
              "    .dataframe tbody tr th:only-of-type {\n",
              "        vertical-align: middle;\n",
              "    }\n",
              "\n",
              "    .dataframe tbody tr th {\n",
              "        vertical-align: top;\n",
              "    }\n",
              "\n",
              "    .dataframe thead th {\n",
              "        text-align: right;\n",
              "    }\n",
              "</style>\n",
              "<table border=\"1\" class=\"dataframe\">\n",
              "  <thead>\n",
              "    <tr style=\"text-align: right;\">\n",
              "      <th></th>\n",
              "      <th>n_pregnant</th>\n",
              "      <th>glucose_concentration</th>\n",
              "      <th>blood_pressure (mm Hg)</th>\n",
              "      <th>skin_thickness (mm)</th>\n",
              "      <th>serum_insulin (mm U/ml)</th>\n",
              "      <th>BMI</th>\n",
              "      <th>pedigree_funcation</th>\n",
              "      <th>age</th>\n",
              "      <th>class</th>\n",
              "    </tr>\n",
              "  </thead>\n",
              "  <tbody>\n",
              "    <tr>\n",
              "      <th>count</th>\n",
              "      <td>768.000000</td>\n",
              "      <td>763.000000</td>\n",
              "      <td>733.000000</td>\n",
              "      <td>541.000000</td>\n",
              "      <td>394.000000</td>\n",
              "      <td>757.000000</td>\n",
              "      <td>768.000000</td>\n",
              "      <td>768.000000</td>\n",
              "      <td>768.000000</td>\n",
              "    </tr>\n",
              "    <tr>\n",
              "      <th>mean</th>\n",
              "      <td>3.845052</td>\n",
              "      <td>121.686763</td>\n",
              "      <td>72.405184</td>\n",
              "      <td>29.153420</td>\n",
              "      <td>155.548223</td>\n",
              "      <td>32.457464</td>\n",
              "      <td>0.471876</td>\n",
              "      <td>33.240885</td>\n",
              "      <td>0.348958</td>\n",
              "    </tr>\n",
              "    <tr>\n",
              "      <th>std</th>\n",
              "      <td>3.369578</td>\n",
              "      <td>30.535641</td>\n",
              "      <td>12.382158</td>\n",
              "      <td>10.476982</td>\n",
              "      <td>118.775855</td>\n",
              "      <td>6.924988</td>\n",
              "      <td>0.331329</td>\n",
              "      <td>11.760232</td>\n",
              "      <td>0.476951</td>\n",
              "    </tr>\n",
              "    <tr>\n",
              "      <th>min</th>\n",
              "      <td>0.000000</td>\n",
              "      <td>44.000000</td>\n",
              "      <td>24.000000</td>\n",
              "      <td>7.000000</td>\n",
              "      <td>14.000000</td>\n",
              "      <td>18.200000</td>\n",
              "      <td>0.078000</td>\n",
              "      <td>21.000000</td>\n",
              "      <td>0.000000</td>\n",
              "    </tr>\n",
              "    <tr>\n",
              "      <th>25%</th>\n",
              "      <td>1.000000</td>\n",
              "      <td>99.000000</td>\n",
              "      <td>64.000000</td>\n",
              "      <td>22.000000</td>\n",
              "      <td>76.250000</td>\n",
              "      <td>27.500000</td>\n",
              "      <td>0.243750</td>\n",
              "      <td>24.000000</td>\n",
              "      <td>0.000000</td>\n",
              "    </tr>\n",
              "    <tr>\n",
              "      <th>50%</th>\n",
              "      <td>3.000000</td>\n",
              "      <td>117.000000</td>\n",
              "      <td>72.000000</td>\n",
              "      <td>29.000000</td>\n",
              "      <td>125.000000</td>\n",
              "      <td>32.300000</td>\n",
              "      <td>0.372500</td>\n",
              "      <td>29.000000</td>\n",
              "      <td>0.000000</td>\n",
              "    </tr>\n",
              "    <tr>\n",
              "      <th>75%</th>\n",
              "      <td>6.000000</td>\n",
              "      <td>141.000000</td>\n",
              "      <td>80.000000</td>\n",
              "      <td>36.000000</td>\n",
              "      <td>190.000000</td>\n",
              "      <td>36.600000</td>\n",
              "      <td>0.626250</td>\n",
              "      <td>41.000000</td>\n",
              "      <td>1.000000</td>\n",
              "    </tr>\n",
              "    <tr>\n",
              "      <th>max</th>\n",
              "      <td>17.000000</td>\n",
              "      <td>199.000000</td>\n",
              "      <td>122.000000</td>\n",
              "      <td>99.000000</td>\n",
              "      <td>846.000000</td>\n",
              "      <td>67.100000</td>\n",
              "      <td>2.420000</td>\n",
              "      <td>81.000000</td>\n",
              "      <td>1.000000</td>\n",
              "    </tr>\n",
              "  </tbody>\n",
              "</table>\n",
              "</div>"
            ],
            "text/plain": [
              "       n_pregnant  glucose_concentration  ...         age       class\n",
              "count  768.000000             763.000000  ...  768.000000  768.000000\n",
              "mean     3.845052             121.686763  ...   33.240885    0.348958\n",
              "std      3.369578              30.535641  ...   11.760232    0.476951\n",
              "min      0.000000              44.000000  ...   21.000000    0.000000\n",
              "25%      1.000000              99.000000  ...   24.000000    0.000000\n",
              "50%      3.000000             117.000000  ...   29.000000    0.000000\n",
              "75%      6.000000             141.000000  ...   41.000000    1.000000\n",
              "max     17.000000             199.000000  ...   81.000000    1.000000\n",
              "\n",
              "[8 rows x 9 columns]"
            ]
          },
          "metadata": {},
          "execution_count": 5
        }
      ]
    },
    {
      "cell_type": "code",
      "metadata": {
        "colab": {
          "base_uri": "https://localhost:8080/",
          "height": 297
        },
        "id": "Rk_LOpL7JfSQ",
        "outputId": "30f906fe-dc3b-4668-ca5a-ab3a643415cc"
      },
      "source": [
        "#drop missing values\n",
        "df.dropna(inplace=True)\n",
        "\n",
        "#Describe the edited data\n",
        "df.describe()"
      ],
      "execution_count": 6,
      "outputs": [
        {
          "output_type": "execute_result",
          "data": {
            "text/html": [
              "<div>\n",
              "<style scoped>\n",
              "    .dataframe tbody tr th:only-of-type {\n",
              "        vertical-align: middle;\n",
              "    }\n",
              "\n",
              "    .dataframe tbody tr th {\n",
              "        vertical-align: top;\n",
              "    }\n",
              "\n",
              "    .dataframe thead th {\n",
              "        text-align: right;\n",
              "    }\n",
              "</style>\n",
              "<table border=\"1\" class=\"dataframe\">\n",
              "  <thead>\n",
              "    <tr style=\"text-align: right;\">\n",
              "      <th></th>\n",
              "      <th>n_pregnant</th>\n",
              "      <th>glucose_concentration</th>\n",
              "      <th>blood_pressure (mm Hg)</th>\n",
              "      <th>skin_thickness (mm)</th>\n",
              "      <th>serum_insulin (mm U/ml)</th>\n",
              "      <th>BMI</th>\n",
              "      <th>pedigree_funcation</th>\n",
              "      <th>age</th>\n",
              "      <th>class</th>\n",
              "    </tr>\n",
              "  </thead>\n",
              "  <tbody>\n",
              "    <tr>\n",
              "      <th>count</th>\n",
              "      <td>392.000000</td>\n",
              "      <td>392.000000</td>\n",
              "      <td>392.000000</td>\n",
              "      <td>392.000000</td>\n",
              "      <td>392.000000</td>\n",
              "      <td>392.000000</td>\n",
              "      <td>392.000000</td>\n",
              "      <td>392.000000</td>\n",
              "      <td>392.000000</td>\n",
              "    </tr>\n",
              "    <tr>\n",
              "      <th>mean</th>\n",
              "      <td>3.301020</td>\n",
              "      <td>122.627551</td>\n",
              "      <td>70.663265</td>\n",
              "      <td>29.145408</td>\n",
              "      <td>156.056122</td>\n",
              "      <td>33.086224</td>\n",
              "      <td>0.523046</td>\n",
              "      <td>30.864796</td>\n",
              "      <td>0.331633</td>\n",
              "    </tr>\n",
              "    <tr>\n",
              "      <th>std</th>\n",
              "      <td>3.211424</td>\n",
              "      <td>30.860781</td>\n",
              "      <td>12.496092</td>\n",
              "      <td>10.516424</td>\n",
              "      <td>118.841690</td>\n",
              "      <td>7.027659</td>\n",
              "      <td>0.345488</td>\n",
              "      <td>10.200777</td>\n",
              "      <td>0.471401</td>\n",
              "    </tr>\n",
              "    <tr>\n",
              "      <th>min</th>\n",
              "      <td>0.000000</td>\n",
              "      <td>56.000000</td>\n",
              "      <td>24.000000</td>\n",
              "      <td>7.000000</td>\n",
              "      <td>14.000000</td>\n",
              "      <td>18.200000</td>\n",
              "      <td>0.085000</td>\n",
              "      <td>21.000000</td>\n",
              "      <td>0.000000</td>\n",
              "    </tr>\n",
              "    <tr>\n",
              "      <th>25%</th>\n",
              "      <td>1.000000</td>\n",
              "      <td>99.000000</td>\n",
              "      <td>62.000000</td>\n",
              "      <td>21.000000</td>\n",
              "      <td>76.750000</td>\n",
              "      <td>28.400000</td>\n",
              "      <td>0.269750</td>\n",
              "      <td>23.000000</td>\n",
              "      <td>0.000000</td>\n",
              "    </tr>\n",
              "    <tr>\n",
              "      <th>50%</th>\n",
              "      <td>2.000000</td>\n",
              "      <td>119.000000</td>\n",
              "      <td>70.000000</td>\n",
              "      <td>29.000000</td>\n",
              "      <td>125.500000</td>\n",
              "      <td>33.200000</td>\n",
              "      <td>0.449500</td>\n",
              "      <td>27.000000</td>\n",
              "      <td>0.000000</td>\n",
              "    </tr>\n",
              "    <tr>\n",
              "      <th>75%</th>\n",
              "      <td>5.000000</td>\n",
              "      <td>143.000000</td>\n",
              "      <td>78.000000</td>\n",
              "      <td>37.000000</td>\n",
              "      <td>190.000000</td>\n",
              "      <td>37.100000</td>\n",
              "      <td>0.687000</td>\n",
              "      <td>36.000000</td>\n",
              "      <td>1.000000</td>\n",
              "    </tr>\n",
              "    <tr>\n",
              "      <th>max</th>\n",
              "      <td>17.000000</td>\n",
              "      <td>198.000000</td>\n",
              "      <td>110.000000</td>\n",
              "      <td>63.000000</td>\n",
              "      <td>846.000000</td>\n",
              "      <td>67.100000</td>\n",
              "      <td>2.420000</td>\n",
              "      <td>81.000000</td>\n",
              "      <td>1.000000</td>\n",
              "    </tr>\n",
              "  </tbody>\n",
              "</table>\n",
              "</div>"
            ],
            "text/plain": [
              "       n_pregnant  glucose_concentration  ...         age       class\n",
              "count  392.000000             392.000000  ...  392.000000  392.000000\n",
              "mean     3.301020             122.627551  ...   30.864796    0.331633\n",
              "std      3.211424              30.860781  ...   10.200777    0.471401\n",
              "min      0.000000              56.000000  ...   21.000000    0.000000\n",
              "25%      1.000000              99.000000  ...   23.000000    0.000000\n",
              "50%      2.000000             119.000000  ...   27.000000    0.000000\n",
              "75%      5.000000             143.000000  ...   36.000000    1.000000\n",
              "max     17.000000             198.000000  ...   81.000000    1.000000\n",
              "\n",
              "[8 rows x 9 columns]"
            ]
          },
          "metadata": {},
          "execution_count": 6
        }
      ]
    },
    {
      "cell_type": "code",
      "metadata": {
        "colab": {
          "base_uri": "https://localhost:8080/"
        },
        "id": "OAdRs5FeKCnn",
        "outputId": "d44346cd-a7d7-467e-94f4-1dc040f0c092"
      },
      "source": [
        "#convert data frame to numpy array\n",
        "dataset = df.values\n",
        "print(dataset.shape)"
      ],
      "execution_count": 7,
      "outputs": [
        {
          "output_type": "stream",
          "name": "stdout",
          "text": [
            "(392, 9)\n"
          ]
        }
      ]
    },
    {
      "cell_type": "code",
      "metadata": {
        "colab": {
          "base_uri": "https://localhost:8080/"
        },
        "id": "NIHxQvhDKQmb",
        "outputId": "68ef5559-6b63-41ef-e4d6-dc54f6dd4786"
      },
      "source": [
        "#split data in to X and Y variables\n",
        "X = dataset[:,0:8]\n",
        "Y = dataset[:,8].astype(int)\n",
        "print(X.shape)\n",
        "print(Y.shape)\n",
        "print(X[:5])"
      ],
      "execution_count": 8,
      "outputs": [
        {
          "output_type": "stream",
          "name": "stdout",
          "text": [
            "(392, 8)\n",
            "(392,)\n",
            "[[1.000e+00 8.900e+01 6.600e+01 2.300e+01 9.400e+01 2.810e+01 1.670e-01\n",
            "  2.100e+01]\n",
            " [0.000e+00 1.370e+02 4.000e+01 3.500e+01 1.680e+02 4.310e+01 2.288e+00\n",
            "  3.300e+01]\n",
            " [3.000e+00 7.800e+01 5.000e+01 3.200e+01 8.800e+01 3.100e+01 2.480e-01\n",
            "  2.600e+01]\n",
            " [2.000e+00 1.970e+02 7.000e+01 4.500e+01 5.430e+02 3.050e+01 1.580e-01\n",
            "  5.300e+01]\n",
            " [1.000e+00 1.890e+02 6.000e+01 2.300e+01 8.460e+02 3.010e+01 3.980e-01\n",
            "  5.900e+01]]\n"
          ]
        }
      ]
    },
    {
      "cell_type": "code",
      "metadata": {
        "colab": {
          "base_uri": "https://localhost:8080/"
        },
        "id": "-ifxvEXlKybc",
        "outputId": "05f2aec6-c949-4caf-b5eb-498f9912a308"
      },
      "source": [
        "#normalize the data set\n",
        "from sklearn.preprocessing import StandardScaler\n",
        "scaler = StandardScaler().fit(X)\n",
        "print(scaler)"
      ],
      "execution_count": 9,
      "outputs": [
        {
          "output_type": "stream",
          "name": "stdout",
          "text": [
            "StandardScaler(copy=True, with_mean=True, with_std=True)\n"
          ]
        }
      ]
    },
    {
      "cell_type": "code",
      "metadata": {
        "colab": {
          "base_uri": "https://localhost:8080/",
          "height": 297
        },
        "id": "YpqID6gOLQM9",
        "outputId": "3330d1ba-8a30-4acf-f662-8d9989f45d0d"
      },
      "source": [
        "X_standardized = scaler.transform(X)\n",
        "\n",
        "data = pd.DataFrame(X_standardized)\n",
        "data.describe()\n"
      ],
      "execution_count": 10,
      "outputs": [
        {
          "output_type": "execute_result",
          "data": {
            "text/html": [
              "<div>\n",
              "<style scoped>\n",
              "    .dataframe tbody tr th:only-of-type {\n",
              "        vertical-align: middle;\n",
              "    }\n",
              "\n",
              "    .dataframe tbody tr th {\n",
              "        vertical-align: top;\n",
              "    }\n",
              "\n",
              "    .dataframe thead th {\n",
              "        text-align: right;\n",
              "    }\n",
              "</style>\n",
              "<table border=\"1\" class=\"dataframe\">\n",
              "  <thead>\n",
              "    <tr style=\"text-align: right;\">\n",
              "      <th></th>\n",
              "      <th>0</th>\n",
              "      <th>1</th>\n",
              "      <th>2</th>\n",
              "      <th>3</th>\n",
              "      <th>4</th>\n",
              "      <th>5</th>\n",
              "      <th>6</th>\n",
              "      <th>7</th>\n",
              "    </tr>\n",
              "  </thead>\n",
              "  <tbody>\n",
              "    <tr>\n",
              "      <th>count</th>\n",
              "      <td>3.920000e+02</td>\n",
              "      <td>3.920000e+02</td>\n",
              "      <td>3.920000e+02</td>\n",
              "      <td>3.920000e+02</td>\n",
              "      <td>3.920000e+02</td>\n",
              "      <td>3.920000e+02</td>\n",
              "      <td>3.920000e+02</td>\n",
              "      <td>3.920000e+02</td>\n",
              "    </tr>\n",
              "    <tr>\n",
              "      <th>mean</th>\n",
              "      <td>-4.021726e-17</td>\n",
              "      <td>3.129583e-17</td>\n",
              "      <td>-4.641624e-16</td>\n",
              "      <td>1.042250e-16</td>\n",
              "      <td>6.485742e-17</td>\n",
              "      <td>1.543550e-16</td>\n",
              "      <td>3.880116e-17</td>\n",
              "      <td>1.028089e-16</td>\n",
              "    </tr>\n",
              "    <tr>\n",
              "      <th>std</th>\n",
              "      <td>1.001278e+00</td>\n",
              "      <td>1.001278e+00</td>\n",
              "      <td>1.001278e+00</td>\n",
              "      <td>1.001278e+00</td>\n",
              "      <td>1.001278e+00</td>\n",
              "      <td>1.001278e+00</td>\n",
              "      <td>1.001278e+00</td>\n",
              "      <td>1.001278e+00</td>\n",
              "    </tr>\n",
              "    <tr>\n",
              "      <th>min</th>\n",
              "      <td>-1.029213e+00</td>\n",
              "      <td>-2.161731e+00</td>\n",
              "      <td>-3.739001e+00</td>\n",
              "      <td>-2.108484e+00</td>\n",
              "      <td>-1.196867e+00</td>\n",
              "      <td>-2.120941e+00</td>\n",
              "      <td>-1.269525e+00</td>\n",
              "      <td>-9.682991e-01</td>\n",
              "    </tr>\n",
              "    <tr>\n",
              "      <th>25%</th>\n",
              "      <td>-7.174265e-01</td>\n",
              "      <td>-7.665958e-01</td>\n",
              "      <td>-6.941640e-01</td>\n",
              "      <td>-7.755315e-01</td>\n",
              "      <td>-6.681786e-01</td>\n",
              "      <td>-6.676780e-01</td>\n",
              "      <td>-7.340909e-01</td>\n",
              "      <td>-7.719850e-01</td>\n",
              "    </tr>\n",
              "    <tr>\n",
              "      <th>50%</th>\n",
              "      <td>-4.056403e-01</td>\n",
              "      <td>-1.176959e-01</td>\n",
              "      <td>-5.314565e-02</td>\n",
              "      <td>-1.384444e-02</td>\n",
              "      <td>-2.574448e-01</td>\n",
              "      <td>1.621036e-02</td>\n",
              "      <td>-2.131475e-01</td>\n",
              "      <td>-3.793569e-01</td>\n",
              "    </tr>\n",
              "    <tr>\n",
              "      <th>75%</th>\n",
              "      <td>5.297185e-01</td>\n",
              "      <td>6.609841e-01</td>\n",
              "      <td>5.878727e-01</td>\n",
              "      <td>7.478426e-01</td>\n",
              "      <td>2.859877e-01</td>\n",
              "      <td>5.718696e-01</td>\n",
              "      <td>4.751644e-01</td>\n",
              "      <td>5.040564e-01</td>\n",
              "    </tr>\n",
              "    <tr>\n",
              "      <th>max</th>\n",
              "      <td>4.271153e+00</td>\n",
              "      <td>2.445459e+00</td>\n",
              "      <td>3.151946e+00</td>\n",
              "      <td>3.223325e+00</td>\n",
              "      <td>5.812990e+00</td>\n",
              "      <td>4.846172e+00</td>\n",
              "      <td>5.497667e+00</td>\n",
              "      <td>4.921123e+00</td>\n",
              "    </tr>\n",
              "  </tbody>\n",
              "</table>\n",
              "</div>"
            ],
            "text/plain": [
              "                  0             1  ...             6             7\n",
              "count  3.920000e+02  3.920000e+02  ...  3.920000e+02  3.920000e+02\n",
              "mean  -4.021726e-17  3.129583e-17  ...  3.880116e-17  1.028089e-16\n",
              "std    1.001278e+00  1.001278e+00  ...  1.001278e+00  1.001278e+00\n",
              "min   -1.029213e+00 -2.161731e+00  ... -1.269525e+00 -9.682991e-01\n",
              "25%   -7.174265e-01 -7.665958e-01  ... -7.340909e-01 -7.719850e-01\n",
              "50%   -4.056403e-01 -1.176959e-01  ... -2.131475e-01 -3.793569e-01\n",
              "75%    5.297185e-01  6.609841e-01  ...  4.751644e-01  5.040564e-01\n",
              "max    4.271153e+00  2.445459e+00  ...  5.497667e+00  4.921123e+00\n",
              "\n",
              "[8 rows x 8 columns]"
            ]
          },
          "metadata": {},
          "execution_count": 10
        }
      ]
    },
    {
      "cell_type": "code",
      "metadata": {
        "id": "0k5Va-hPLj4n"
      },
      "source": [
        "#build Keras model \n",
        "from sklearn.model_selection import GridSearchCV, KFold\n",
        "from keras.models import Sequential\n",
        "from keras.layers import Dense\n",
        "from keras.wrappers.scikit_learn import KerasClassifier\n",
        "from keras.optimizer_v1 import Adam\n",
        "#from keras.optimizers import Adam\n",
        "#from keras.optimizers import adam_v2\n",
        "\n"
      ],
      "execution_count": 20,
      "outputs": []
    },
    {
      "cell_type": "code",
      "metadata": {
        "colab": {
          "base_uri": "https://localhost:8080/"
        },
        "id": "1KzjsYxD9ctR",
        "outputId": "62c82d9e-211b-4bef-8f39-a79eb35e163e"
      },
      "source": [
        "# disable eager execution\n",
        "import tensorflow as tf\n",
        "from tensorflow.python.framework.ops import disable_eager_execution\n",
        "\n",
        "disable_eager_execution()\n",
        "\n",
        "a = tf.constant(1)\n",
        "b = tf.constant(2)\n",
        "c = a + b\n",
        "print(c)\n",
        "\n",
        "print(disable_eager_execution.__doc__) \n",
        "\n",
        "#Start defining the model\n",
        "\n",
        "def create_model():\n",
        "  # Create model\n",
        "  model = Sequential()\n",
        "  model.add(Dense(8,input_dim=8,kernel_initializer='normal',activation='relu'))\n",
        "  model.add(Dense(4,input_dim=8,kernel_initializer='normal',activation='relu'))\n",
        "  model.add(Dense(1,activation='sigmoid'))\n",
        "\n",
        "#compile the model\n",
        "  adam=Adam(lr=0.01)\n",
        "  model.compile(loss = 'binary_crossentropy', optimizer = adam, metrics = ['accuracy'])\n",
        "  return model\n",
        "\n",
        "model = create_model()\n",
        "print(model.summary()) "
      ],
      "execution_count": 25,
      "outputs": [
        {
          "output_type": "stream",
          "name": "stdout",
          "text": [
            "Tensor(\"add_2:0\", shape=(), dtype=int32)\n",
            "Disables eager execution.\n",
            "\n",
            "  This function can only be called before any Graphs, Ops, or Tensors have been\n",
            "  created. It can be used at the beginning of the program for complex migration\n",
            "  projects from TensorFlow 1.x to 2.x.\n",
            "  \n",
            "Model: \"sequential_7\"\n",
            "_________________________________________________________________\n",
            "Layer (type)                 Output Shape              Param #   \n",
            "=================================================================\n",
            "dense_21 (Dense)             (None, 8)                 72        \n",
            "_________________________________________________________________\n",
            "dense_22 (Dense)             (None, 4)                 36        \n",
            "_________________________________________________________________\n",
            "dense_23 (Dense)             (None, 1)                 5         \n",
            "=================================================================\n",
            "Total params: 113\n",
            "Trainable params: 113\n",
            "Non-trainable params: 0\n",
            "_________________________________________________________________\n",
            "None\n"
          ]
        }
      ]
    },
    {
      "cell_type": "code",
      "metadata": {
        "colab": {
          "base_uri": "https://localhost:8080/"
        },
        "id": "J-JA03CyLW2D",
        "outputId": "d9d57dae-da80-4072-a319-d9f8b348731d"
      },
      "source": [
        "# Define random seed\n",
        "seed = 6\n",
        "np.random.seed(seed)\n",
        "\n",
        "\n",
        "#Start defining the model\n",
        "\n",
        "def create_model():\n",
        "  # Create model\n",
        "  model = Sequential()\n",
        "  model.add(Dense(8,input_dim=8,kernel_initializer='normal',activation='relu'))\n",
        "  model.add(Dense(4,input_dim=8,kernel_initializer='normal',activation='relu'))\n",
        "  model.add(Dense(1,activation='sigmoid'))\n",
        "\n",
        "#compile the model\n",
        "  adam=Adam(lr=0.01)\n",
        "  model.compile(loss = 'binary_crossentropy', optimizer = adam, metrics = ['accuracy'])\n",
        "  return model\n",
        "\n",
        "# Create the model\n",
        "model = KerasClassifier(build_fn = create_model, verbose = 0)\n",
        "\n",
        "# Define the grid search parameters \n",
        "batch_size = [10, 20, 40]\n",
        "epochs = [10, 50, 100]\n",
        "\n",
        "# make a dictionary of grid search paramteres\n",
        "param_grid = dict(batch_size = batch_size, epochs = epochs)\n",
        "\n",
        "# Build & fit Gridsearch\n",
        "grid = GridSearchCV(estimator = model, param_grid = param_grid, cv = KFold(random_state=seed), verbose = 10)\n",
        "grid_results = grid.fit(X_standardized, Y)\n",
        "\n",
        "# Create summary\n",
        "print(\"Best: {0}, using {1}\".format(grid_results.best_score_, grid_results.best_params_))\n",
        "means = grid_results.cv_results_['mean_test_score']\n",
        "stds = grid_results.cv_results_['std_test_score']\n",
        "params = grid_results.cv_results_['params']\n",
        "for mean, stdev, param in zip(means, stds, params):\n",
        "  print('{0} ({1}) with: {2}'.format(mean, stdev, param))"
      ],
      "execution_count": 28,
      "outputs": [
        {
          "output_type": "stream",
          "name": "stderr",
          "text": [
            "/usr/local/lib/python3.7/dist-packages/sklearn/model_selection/_split.py:296: FutureWarning: Setting a random_state has no effect since shuffle is False. This will raise an error in 0.24. You should leave random_state to its default (None), or set shuffle=True.\n",
            "  FutureWarning\n",
            "[Parallel(n_jobs=1)]: Using backend SequentialBackend with 1 concurrent workers.\n"
          ]
        },
        {
          "output_type": "stream",
          "name": "stdout",
          "text": [
            "Fitting 5 folds for each of 9 candidates, totalling 45 fits\n",
            "[CV] batch_size=10, epochs=10 ........................................\n"
          ]
        },
        {
          "output_type": "stream",
          "name": "stderr",
          "text": [
            "/usr/local/lib/python3.7/dist-packages/keras/engine/training.py:2470: UserWarning: `Model.state_updates` will be removed in a future version. This property should not be used in TensorFlow 2.0, as `updates` are applied automatically.\n",
            "  warnings.warn('`Model.state_updates` will be removed in a future version. '\n"
          ]
        },
        {
          "output_type": "stream",
          "name": "stdout",
          "text": [
            "[CV] ............ batch_size=10, epochs=10, score=0.734, total=   4.9s\n",
            "[CV] batch_size=10, epochs=10 ........................................\n"
          ]
        },
        {
          "output_type": "stream",
          "name": "stderr",
          "text": [
            "[Parallel(n_jobs=1)]: Done   1 out of   1 | elapsed:    4.9s remaining:    0.0s\n"
          ]
        },
        {
          "output_type": "stream",
          "name": "stdout",
          "text": [
            "[CV] ............ batch_size=10, epochs=10, score=0.646, total=   4.6s\n",
            "[CV] batch_size=10, epochs=10 ........................................\n"
          ]
        },
        {
          "output_type": "stream",
          "name": "stderr",
          "text": [
            "[Parallel(n_jobs=1)]: Done   2 out of   2 | elapsed:    9.5s remaining:    0.0s\n"
          ]
        },
        {
          "output_type": "stream",
          "name": "stdout",
          "text": [
            "[CV] ............ batch_size=10, epochs=10, score=0.769, total=   4.6s\n",
            "[CV] batch_size=10, epochs=10 ........................................\n"
          ]
        },
        {
          "output_type": "stream",
          "name": "stderr",
          "text": [
            "[Parallel(n_jobs=1)]: Done   3 out of   3 | elapsed:   14.1s remaining:    0.0s\n"
          ]
        },
        {
          "output_type": "stream",
          "name": "stdout",
          "text": [
            "[CV] ............ batch_size=10, epochs=10, score=0.808, total=   4.7s\n",
            "[CV] batch_size=10, epochs=10 ........................................\n"
          ]
        },
        {
          "output_type": "stream",
          "name": "stderr",
          "text": [
            "[Parallel(n_jobs=1)]: Done   4 out of   4 | elapsed:   18.8s remaining:    0.0s\n"
          ]
        },
        {
          "output_type": "stream",
          "name": "stdout",
          "text": [
            "[CV] ............ batch_size=10, epochs=10, score=0.846, total=   4.9s\n",
            "[CV] batch_size=10, epochs=50 ........................................\n"
          ]
        },
        {
          "output_type": "stream",
          "name": "stderr",
          "text": [
            "[Parallel(n_jobs=1)]: Done   5 out of   5 | elapsed:   23.7s remaining:    0.0s\n"
          ]
        },
        {
          "output_type": "stream",
          "name": "stdout",
          "text": [
            "[CV] ............ batch_size=10, epochs=50, score=0.734, total=   7.6s\n",
            "[CV] batch_size=10, epochs=50 ........................................\n"
          ]
        },
        {
          "output_type": "stream",
          "name": "stderr",
          "text": [
            "[Parallel(n_jobs=1)]: Done   6 out of   6 | elapsed:   31.3s remaining:    0.0s\n"
          ]
        },
        {
          "output_type": "stream",
          "name": "stdout",
          "text": [
            "[CV] ............ batch_size=10, epochs=50, score=0.646, total=   7.8s\n",
            "[CV] batch_size=10, epochs=50 ........................................\n"
          ]
        },
        {
          "output_type": "stream",
          "name": "stderr",
          "text": [
            "[Parallel(n_jobs=1)]: Done   7 out of   7 | elapsed:   39.2s remaining:    0.0s\n"
          ]
        },
        {
          "output_type": "stream",
          "name": "stdout",
          "text": [
            "[CV] ............ batch_size=10, epochs=50, score=0.808, total=   8.1s\n",
            "[CV] batch_size=10, epochs=50 ........................................\n"
          ]
        },
        {
          "output_type": "stream",
          "name": "stderr",
          "text": [
            "[Parallel(n_jobs=1)]: Done   8 out of   8 | elapsed:   47.3s remaining:    0.0s\n"
          ]
        },
        {
          "output_type": "stream",
          "name": "stdout",
          "text": [
            "[CV] ............ batch_size=10, epochs=50, score=0.859, total=   8.1s\n",
            "[CV] batch_size=10, epochs=50 ........................................\n"
          ]
        },
        {
          "output_type": "stream",
          "name": "stderr",
          "text": [
            "[Parallel(n_jobs=1)]: Done   9 out of   9 | elapsed:   55.3s remaining:    0.0s\n"
          ]
        },
        {
          "output_type": "stream",
          "name": "stdout",
          "text": [
            "[CV] ............ batch_size=10, epochs=50, score=0.859, total=   8.2s\n",
            "[CV] batch_size=10, epochs=100 .......................................\n",
            "[CV] ........... batch_size=10, epochs=100, score=0.709, total=  12.1s\n",
            "[CV] batch_size=10, epochs=100 .......................................\n",
            "[CV] ........... batch_size=10, epochs=100, score=0.646, total=  12.2s\n",
            "[CV] batch_size=10, epochs=100 .......................................\n",
            "[CV] ........... batch_size=10, epochs=100, score=0.808, total=  13.1s\n",
            "[CV] batch_size=10, epochs=100 .......................................\n",
            "[CV] ........... batch_size=10, epochs=100, score=0.846, total=  12.8s\n",
            "[CV] batch_size=10, epochs=100 .......................................\n",
            "[CV] ........... batch_size=10, epochs=100, score=0.846, total=  13.2s\n",
            "[CV] batch_size=20, epochs=10 ........................................\n",
            "[CV] ............ batch_size=20, epochs=10, score=0.772, total=   5.3s\n",
            "[CV] batch_size=20, epochs=10 ........................................\n",
            "[CV] ............ batch_size=20, epochs=10, score=0.582, total=   5.4s\n",
            "[CV] batch_size=20, epochs=10 ........................................\n",
            "[CV] ............ batch_size=20, epochs=10, score=0.821, total=   5.4s\n",
            "[CV] batch_size=20, epochs=10 ........................................\n",
            "[CV] ............ batch_size=20, epochs=10, score=0.833, total=   5.5s\n",
            "[CV] batch_size=20, epochs=10 ........................................\n",
            "[CV] ............ batch_size=20, epochs=10, score=0.821, total=   5.6s\n",
            "[CV] batch_size=20, epochs=50 ........................................\n",
            "[CV] ............ batch_size=20, epochs=50, score=0.709, total=   7.6s\n",
            "[CV] batch_size=20, epochs=50 ........................................\n",
            "[CV] ............ batch_size=20, epochs=50, score=0.633, total=   7.6s\n",
            "[CV] batch_size=20, epochs=50 ........................................\n",
            "[CV] ............ batch_size=20, epochs=50, score=0.782, total=   7.6s\n",
            "[CV] batch_size=20, epochs=50 ........................................\n",
            "[CV] ............ batch_size=20, epochs=50, score=0.795, total=   7.8s\n",
            "[CV] batch_size=20, epochs=50 ........................................\n",
            "[CV] ............ batch_size=20, epochs=50, score=0.808, total=   7.9s\n",
            "[CV] batch_size=20, epochs=100 .......................................\n",
            "[CV] ........... batch_size=20, epochs=100, score=0.747, total=  10.8s\n",
            "[CV] batch_size=20, epochs=100 .......................................\n",
            "[CV] ........... batch_size=20, epochs=100, score=0.646, total=  10.6s\n",
            "[CV] batch_size=20, epochs=100 .......................................\n",
            "[CV] ........... batch_size=20, epochs=100, score=0.808, total=  10.7s\n",
            "[CV] batch_size=20, epochs=100 .......................................\n",
            "[CV] ........... batch_size=20, epochs=100, score=0.808, total=  10.8s\n",
            "[CV] batch_size=20, epochs=100 .......................................\n",
            "[CV] ........... batch_size=20, epochs=100, score=0.808, total=  11.0s\n",
            "[CV] batch_size=40, epochs=10 ........................................\n",
            "[CV] ............ batch_size=40, epochs=10, score=0.759, total=   6.1s\n",
            "[CV] batch_size=40, epochs=10 ........................................\n",
            "[CV] ............ batch_size=40, epochs=10, score=0.582, total=   6.3s\n",
            "[CV] batch_size=40, epochs=10 ........................................\n",
            "[CV] ............ batch_size=40, epochs=10, score=0.795, total=   6.4s\n",
            "[CV] batch_size=40, epochs=10 ........................................\n",
            "[CV] ............ batch_size=40, epochs=10, score=0.808, total=   6.4s\n",
            "[CV] batch_size=40, epochs=10 ........................................\n",
            "[CV] ............ batch_size=40, epochs=10, score=0.821, total=   6.4s\n",
            "[CV] batch_size=40, epochs=50 ........................................\n",
            "[CV] ............ batch_size=40, epochs=50, score=0.747, total=   7.8s\n",
            "[CV] batch_size=40, epochs=50 ........................................\n",
            "[CV] ............ batch_size=40, epochs=50, score=0.633, total=   7.7s\n",
            "[CV] batch_size=40, epochs=50 ........................................\n",
            "[CV] ............ batch_size=40, epochs=50, score=0.821, total=   7.9s\n",
            "[CV] batch_size=40, epochs=50 ........................................\n",
            "[CV] ............ batch_size=40, epochs=50, score=0.859, total=   7.8s\n",
            "[CV] batch_size=40, epochs=50 ........................................\n",
            "[CV] ............ batch_size=40, epochs=50, score=0.808, total=   8.0s\n",
            "[CV] batch_size=40, epochs=100 .......................................\n",
            "[CV] ........... batch_size=40, epochs=100, score=0.734, total=   9.9s\n",
            "[CV] batch_size=40, epochs=100 .......................................\n",
            "[CV] ........... batch_size=40, epochs=100, score=0.658, total=  10.0s\n",
            "[CV] batch_size=40, epochs=100 .......................................\n",
            "[CV] ........... batch_size=40, epochs=100, score=0.821, total=  10.0s\n",
            "[CV] batch_size=40, epochs=100 .......................................\n",
            "[CV] ........... batch_size=40, epochs=100, score=0.846, total=  10.1s\n",
            "[CV] batch_size=40, epochs=100 .......................................\n",
            "[CV] ........... batch_size=40, epochs=100, score=0.808, total=  10.3s\n"
          ]
        },
        {
          "output_type": "stream",
          "name": "stderr",
          "text": [
            "[Parallel(n_jobs=1)]: Done  45 out of  45 | elapsed:  6.1min finished\n"
          ]
        },
        {
          "output_type": "stream",
          "name": "stdout",
          "text": [
            "Best: 0.7810775637626648, using {'batch_size': 10, 'epochs': 50}\n",
            "0.7605647563934326 (0.06861746207128423) with: {'batch_size': 10, 'epochs': 10}\n",
            "0.7810775637626648 (0.08173885445716632) with: {'batch_size': 10, 'epochs': 50}\n",
            "0.7708860754966735 (0.08029511630596493) with: {'batch_size': 10, 'epochs': 100}\n",
            "0.7657578706741333 (0.09409380259449765) with: {'batch_size': 20, 'epochs': 10}\n",
            "0.7452775001525879 (0.06581767901768426) with: {'batch_size': 20, 'epochs': 50}\n",
            "0.7630963921546936 (0.06331404473732168) with: {'batch_size': 20, 'epochs': 100}\n",
            "0.7529698133468627 (0.08773878731511663) with: {'batch_size': 40, 'epochs': 10}\n",
            "0.7733852624893188 (0.07894462816314277) with: {'batch_size': 40, 'epochs': 50}\n",
            "0.7733528137207031 (0.06854449572384913) with: {'batch_size': 40, 'epochs': 100}\n"
          ]
        }
      ]
    },
    {
      "cell_type": "code",
      "metadata": {
        "colab": {
          "base_uri": "https://localhost:8080/"
        },
        "id": "rgfjx7NAWdnu",
        "outputId": "bd00f1f9-6aa3-490e-e220-b84b8c21295a"
      },
      "source": [
        "# Do Gridsearch for optimal batch size and epoch\n",
        "from keras.layers import Dropout\n",
        "\n",
        "# Define random seed\n",
        "seed = 6\n",
        "np.random.seed(seed)\n",
        "\n",
        "\n",
        "#Start defining the model\n",
        "\n",
        "def create_model(learn_rate, dropout_rate):\n",
        "  # Create model\n",
        "  model = Sequential()\n",
        "  model.add(Dense(8,input_dim=8,kernel_initializer='normal',activation='relu'))\n",
        "  model.add(Dropout(dropout_rate))\n",
        "  model.add(Dense(4,input_dim=8,kernel_initializer='normal',activation='relu'))\n",
        "  model.add(Dropout(dropout_rate))\n",
        "  model.add(Dense(1,activation='sigmoid'))\n",
        "\n",
        "#compile the model\n",
        "  adam=Adam(lr=learn_rate)\n",
        "  model.compile(loss = 'binary_crossentropy', optimizer = adam, metrics = ['accuracy'])\n",
        "  return model\n",
        "\n",
        "# Create the model\n",
        "model = KerasClassifier(build_fn = create_model, epochs = 100, batch_size = 20, verbose = 0)\n",
        "\n",
        "# Define the grid search parameters \n",
        "batch_size = [10, 20, 40]\n",
        "epochs = [10, 50, 100]\n",
        "learn_rate = [0.001, 0.01, 0.1]\n",
        "dropout_rate = [0.0, 0.1, 0.2]\n",
        "\n",
        "# make a dictionary of grid search paramteres\n",
        "param_grid = dict(learn_rate=learn_rate, dropout_rate=dropout_rate)\n",
        "\n",
        "# Build & fit Gridsearch\n",
        "grid = GridSearchCV(estimator = model, param_grid = param_grid, cv = KFold(random_state=seed), verbose = 10)\n",
        "grid_results = grid.fit(X_standardized, Y)\n",
        "\n",
        "# Create summary\n",
        "print(\"Best: {0}, using {1}\".format(grid_results.best_score_, grid_results.best_params_))\n",
        "means = grid_results.cv_results_['mean_test_score']\n",
        "stds = grid_results.cv_results_['std_test_score']\n",
        "params = grid_results.cv_results_['params']\n",
        "for mean, stdev, param in zip(means, stds, params):\n",
        "  print('{0} ({1}) with: {2}'.format(mean, stdev, param))"
      ],
      "execution_count": 29,
      "outputs": [
        {
          "output_type": "stream",
          "name": "stderr",
          "text": [
            "/usr/local/lib/python3.7/dist-packages/sklearn/model_selection/_split.py:296: FutureWarning: Setting a random_state has no effect since shuffle is False. This will raise an error in 0.24. You should leave random_state to its default (None), or set shuffle=True.\n",
            "  FutureWarning\n",
            "[Parallel(n_jobs=1)]: Using backend SequentialBackend with 1 concurrent workers.\n"
          ]
        },
        {
          "output_type": "stream",
          "name": "stdout",
          "text": [
            "Fitting 5 folds for each of 9 candidates, totalling 45 fits\n",
            "[CV] dropout_rate=0.0, learn_rate=0.001 ..............................\n"
          ]
        },
        {
          "output_type": "stream",
          "name": "stderr",
          "text": [
            "/usr/local/lib/python3.7/dist-packages/keras/engine/training.py:2470: UserWarning: `Model.state_updates` will be removed in a future version. This property should not be used in TensorFlow 2.0, as `updates` are applied automatically.\n",
            "  warnings.warn('`Model.state_updates` will be removed in a future version. '\n"
          ]
        },
        {
          "output_type": "stream",
          "name": "stdout",
          "text": [
            "[CV] .. dropout_rate=0.0, learn_rate=0.001, score=0.772, total=  15.4s\n",
            "[CV] dropout_rate=0.0, learn_rate=0.001 ..............................\n"
          ]
        },
        {
          "output_type": "stream",
          "name": "stderr",
          "text": [
            "[Parallel(n_jobs=1)]: Done   1 out of   1 | elapsed:   15.4s remaining:    0.0s\n"
          ]
        },
        {
          "output_type": "stream",
          "name": "stdout",
          "text": [
            "[CV] .. dropout_rate=0.0, learn_rate=0.001, score=0.608, total=  15.3s\n",
            "[CV] dropout_rate=0.0, learn_rate=0.001 ..............................\n"
          ]
        },
        {
          "output_type": "stream",
          "name": "stderr",
          "text": [
            "[Parallel(n_jobs=1)]: Done   2 out of   2 | elapsed:   30.7s remaining:    0.0s\n"
          ]
        },
        {
          "output_type": "stream",
          "name": "stdout",
          "text": [
            "[CV] .. dropout_rate=0.0, learn_rate=0.001, score=0.821, total=  16.2s\n",
            "[CV] dropout_rate=0.0, learn_rate=0.001 ..............................\n"
          ]
        },
        {
          "output_type": "stream",
          "name": "stderr",
          "text": [
            "[Parallel(n_jobs=1)]: Done   3 out of   3 | elapsed:   46.9s remaining:    0.0s\n"
          ]
        },
        {
          "output_type": "stream",
          "name": "stdout",
          "text": [
            "[CV] .. dropout_rate=0.0, learn_rate=0.001, score=0.795, total=  16.6s\n",
            "[CV] dropout_rate=0.0, learn_rate=0.001 ..............................\n"
          ]
        },
        {
          "output_type": "stream",
          "name": "stderr",
          "text": [
            "[Parallel(n_jobs=1)]: Done   4 out of   4 | elapsed:  1.1min remaining:    0.0s\n"
          ]
        },
        {
          "output_type": "stream",
          "name": "stdout",
          "text": [
            "[CV] .. dropout_rate=0.0, learn_rate=0.001, score=0.859, total=  16.8s\n",
            "[CV] dropout_rate=0.0, learn_rate=0.01 ...............................\n"
          ]
        },
        {
          "output_type": "stream",
          "name": "stderr",
          "text": [
            "[Parallel(n_jobs=1)]: Done   5 out of   5 | elapsed:  1.3min remaining:    0.0s\n"
          ]
        },
        {
          "output_type": "stream",
          "name": "stdout",
          "text": [
            "[CV] ... dropout_rate=0.0, learn_rate=0.01, score=0.734, total=  16.6s\n",
            "[CV] dropout_rate=0.0, learn_rate=0.01 ...............................\n"
          ]
        },
        {
          "output_type": "stream",
          "name": "stderr",
          "text": [
            "[Parallel(n_jobs=1)]: Done   6 out of   6 | elapsed:  1.6min remaining:    0.0s\n"
          ]
        },
        {
          "output_type": "stream",
          "name": "stdout",
          "text": [
            "[CV] ... dropout_rate=0.0, learn_rate=0.01, score=0.671, total=  15.4s\n",
            "[CV] dropout_rate=0.0, learn_rate=0.01 ...............................\n"
          ]
        },
        {
          "output_type": "stream",
          "name": "stderr",
          "text": [
            "[Parallel(n_jobs=1)]: Done   7 out of   7 | elapsed:  1.9min remaining:    0.0s\n"
          ]
        },
        {
          "output_type": "stream",
          "name": "stdout",
          "text": [
            "[CV] ... dropout_rate=0.0, learn_rate=0.01, score=0.821, total=  15.7s\n",
            "[CV] dropout_rate=0.0, learn_rate=0.01 ...............................\n"
          ]
        },
        {
          "output_type": "stream",
          "name": "stderr",
          "text": [
            "[Parallel(n_jobs=1)]: Done   8 out of   8 | elapsed:  2.1min remaining:    0.0s\n"
          ]
        },
        {
          "output_type": "stream",
          "name": "stdout",
          "text": [
            "[CV] ... dropout_rate=0.0, learn_rate=0.01, score=0.782, total=  15.4s\n",
            "[CV] dropout_rate=0.0, learn_rate=0.01 ...............................\n"
          ]
        },
        {
          "output_type": "stream",
          "name": "stderr",
          "text": [
            "[Parallel(n_jobs=1)]: Done   9 out of   9 | elapsed:  2.4min remaining:    0.0s\n"
          ]
        },
        {
          "output_type": "stream",
          "name": "stdout",
          "text": [
            "[CV] ... dropout_rate=0.0, learn_rate=0.01, score=0.821, total=  15.8s\n",
            "[CV] dropout_rate=0.0, learn_rate=0.1 ................................\n",
            "[CV] .... dropout_rate=0.0, learn_rate=0.1, score=0.722, total=  16.1s\n",
            "[CV] dropout_rate=0.0, learn_rate=0.1 ................................\n",
            "[CV] .... dropout_rate=0.0, learn_rate=0.1, score=0.671, total=  16.1s\n",
            "[CV] dropout_rate=0.0, learn_rate=0.1 ................................\n",
            "[CV] .... dropout_rate=0.0, learn_rate=0.1, score=0.782, total=  16.3s\n",
            "[CV] dropout_rate=0.0, learn_rate=0.1 ................................\n",
            "[CV] .... dropout_rate=0.0, learn_rate=0.1, score=0.833, total=  17.0s\n",
            "[CV] dropout_rate=0.0, learn_rate=0.1 ................................\n",
            "[CV] .... dropout_rate=0.0, learn_rate=0.1, score=0.821, total=  17.5s\n",
            "[CV] dropout_rate=0.1, learn_rate=0.001 ..............................\n",
            "[CV] .. dropout_rate=0.1, learn_rate=0.001, score=0.772, total=  17.6s\n",
            "[CV] dropout_rate=0.1, learn_rate=0.001 ..............................\n",
            "[CV] .. dropout_rate=0.1, learn_rate=0.001, score=0.595, total=  17.4s\n",
            "[CV] dropout_rate=0.1, learn_rate=0.001 ..............................\n",
            "[CV] .. dropout_rate=0.1, learn_rate=0.001, score=0.821, total=  17.7s\n",
            "[CV] dropout_rate=0.1, learn_rate=0.001 ..............................\n",
            "[CV] .. dropout_rate=0.1, learn_rate=0.001, score=0.833, total=  17.7s\n",
            "[CV] dropout_rate=0.1, learn_rate=0.001 ..............................\n",
            "[CV] .. dropout_rate=0.1, learn_rate=0.001, score=0.846, total=  17.9s\n",
            "[CV] dropout_rate=0.1, learn_rate=0.01 ...............................\n",
            "[CV] ... dropout_rate=0.1, learn_rate=0.01, score=0.747, total=  17.9s\n",
            "[CV] dropout_rate=0.1, learn_rate=0.01 ...............................\n",
            "[CV] ... dropout_rate=0.1, learn_rate=0.01, score=0.671, total=  18.6s\n",
            "[CV] dropout_rate=0.1, learn_rate=0.01 ...............................\n",
            "[CV] ... dropout_rate=0.1, learn_rate=0.01, score=0.808, total=  18.9s\n",
            "[CV] dropout_rate=0.1, learn_rate=0.01 ...............................\n",
            "[CV] ... dropout_rate=0.1, learn_rate=0.01, score=0.846, total=  19.0s\n",
            "[CV] dropout_rate=0.1, learn_rate=0.01 ...............................\n",
            "[CV] ... dropout_rate=0.1, learn_rate=0.01, score=0.808, total=  19.6s\n",
            "[CV] dropout_rate=0.1, learn_rate=0.1 ................................\n",
            "[CV] .... dropout_rate=0.1, learn_rate=0.1, score=0.722, total=  19.6s\n",
            "[CV] dropout_rate=0.1, learn_rate=0.1 ................................\n",
            "[CV] .... dropout_rate=0.1, learn_rate=0.1, score=0.646, total=  19.7s\n",
            "[CV] dropout_rate=0.1, learn_rate=0.1 ................................\n",
            "[CV] .... dropout_rate=0.1, learn_rate=0.1, score=0.782, total=  19.7s\n",
            "[CV] dropout_rate=0.1, learn_rate=0.1 ................................\n",
            "[CV] .... dropout_rate=0.1, learn_rate=0.1, score=0.795, total=  19.8s\n",
            "[CV] dropout_rate=0.1, learn_rate=0.1 ................................\n",
            "[CV] .... dropout_rate=0.1, learn_rate=0.1, score=0.718, total=  20.2s\n",
            "[CV] dropout_rate=0.2, learn_rate=0.001 ..............................\n",
            "[CV] .. dropout_rate=0.2, learn_rate=0.001, score=0.759, total=  20.7s\n",
            "[CV] dropout_rate=0.2, learn_rate=0.001 ..............................\n",
            "[CV] .. dropout_rate=0.2, learn_rate=0.001, score=0.608, total=  21.3s\n",
            "[CV] dropout_rate=0.2, learn_rate=0.001 ..............................\n",
            "[CV] .. dropout_rate=0.2, learn_rate=0.001, score=0.795, total=  21.4s\n",
            "[CV] dropout_rate=0.2, learn_rate=0.001 ..............................\n",
            "[CV] .. dropout_rate=0.2, learn_rate=0.001, score=0.833, total=  21.1s\n",
            "[CV] dropout_rate=0.2, learn_rate=0.001 ..............................\n",
            "[CV] .. dropout_rate=0.2, learn_rate=0.001, score=0.859, total=  22.5s\n",
            "[CV] dropout_rate=0.2, learn_rate=0.01 ...............................\n",
            "[CV] ... dropout_rate=0.2, learn_rate=0.01, score=0.722, total=  22.1s\n",
            "[CV] dropout_rate=0.2, learn_rate=0.01 ...............................\n",
            "[CV] ... dropout_rate=0.2, learn_rate=0.01, score=0.646, total=  22.5s\n",
            "[CV] dropout_rate=0.2, learn_rate=0.01 ...............................\n",
            "[CV] ... dropout_rate=0.2, learn_rate=0.01, score=0.795, total=  22.4s\n",
            "[CV] dropout_rate=0.2, learn_rate=0.01 ...............................\n",
            "[CV] ... dropout_rate=0.2, learn_rate=0.01, score=0.833, total=  23.0s\n",
            "[CV] dropout_rate=0.2, learn_rate=0.01 ...............................\n",
            "[CV] ... dropout_rate=0.2, learn_rate=0.01, score=0.833, total=  22.6s\n",
            "[CV] dropout_rate=0.2, learn_rate=0.1 ................................\n",
            "[CV] .... dropout_rate=0.2, learn_rate=0.1, score=0.722, total=  23.1s\n",
            "[CV] dropout_rate=0.2, learn_rate=0.1 ................................\n",
            "[CV] .... dropout_rate=0.2, learn_rate=0.1, score=0.620, total=  22.9s\n",
            "[CV] dropout_rate=0.2, learn_rate=0.1 ................................\n",
            "[CV] .... dropout_rate=0.2, learn_rate=0.1, score=0.808, total=  22.6s\n",
            "[CV] dropout_rate=0.2, learn_rate=0.1 ................................\n",
            "[CV] .... dropout_rate=0.2, learn_rate=0.1, score=0.756, total=  22.4s\n",
            "[CV] dropout_rate=0.2, learn_rate=0.1 ................................\n",
            "[CV] .... dropout_rate=0.2, learn_rate=0.1, score=0.679, total=  23.0s\n"
          ]
        },
        {
          "output_type": "stream",
          "name": "stderr",
          "text": [
            "[Parallel(n_jobs=1)]: Done  45 out of  45 | elapsed: 14.3min finished\n"
          ]
        },
        {
          "output_type": "stream",
          "name": "stdout",
          "text": [
            "Best: 0.7758520007133484, using {'dropout_rate': 0.1, 'learn_rate': 0.01}\n",
            "0.7708211541175842 (0.08656010506221103) with: {'dropout_rate': 0.0, 'learn_rate': 0.001}\n",
            "0.7656280517578125 (0.057025593547621954) with: {'dropout_rate': 0.0, 'learn_rate': 0.01}\n",
            "0.7656605005264282 (0.061298784220158394) with: {'dropout_rate': 0.0, 'learn_rate': 0.1}\n",
            "0.7734177231788635 (0.09268812209673286) with: {'dropout_rate': 0.1, 'learn_rate': 0.001}\n",
            "0.7758520007133484 (0.061367349979268675) with: {'dropout_rate': 0.1, 'learn_rate': 0.01}\n",
            "0.7323920845985412 (0.053356769645139884) with: {'dropout_rate': 0.1, 'learn_rate': 0.1}\n",
            "0.7708536028862 (0.08834964911323655) with: {'dropout_rate': 0.2, 'learn_rate': 0.001}\n",
            "0.7657254099845886 (0.07263992045982487) with: {'dropout_rate': 0.2, 'learn_rate': 0.01}\n",
            "0.7170723676681519 (0.0641339533988961) with: {'dropout_rate': 0.2, 'learn_rate': 0.1}\n"
          ]
        }
      ]
    },
    {
      "cell_type": "code",
      "metadata": {
        "colab": {
          "base_uri": "https://localhost:8080/"
        },
        "id": "sahiKLnoctot",
        "outputId": "8fb52980-03be-457f-fa9d-db3ce2585d13"
      },
      "source": [
        "# Do Gridsearch for optimal batch size and epoch\n",
        "#from keras.layers import Dropout\n",
        "\n",
        "# Define random seed\n",
        "seed = 6\n",
        "np.random.seed(seed)\n",
        "\n",
        "\n",
        "#Start defining the model\n",
        "\n",
        "def create_model(activation, init):\n",
        "  # Create model\n",
        "  model = Sequential()\n",
        "  model.add(Dense(8,input_dim=8,kernel_initializer=init,activation=activation))\n",
        "#  model.add(Dropout(dropout_rate))\n",
        "  model.add(Dense(4,input_dim=8,kernel_initializer=init,activation=activation))\n",
        "#  model.add(Dropout(dropout_rate))\n",
        "  model.add(Dense(1,activation='sigmoid'))\n",
        "\n",
        "#compile the model\n",
        "  adam=Adam(lr=0.001)\n",
        "  model.compile(loss = 'binary_crossentropy', optimizer = adam, metrics = ['accuracy'])\n",
        "  return model\n",
        "\n",
        "# Create the model\n",
        "model = KerasClassifier(build_fn = create_model, epochs = 100, batch_size = 20, verbose = 0)\n",
        "\n",
        "# Define the grid search parameters \n",
        "batch_size = [10, 20, 40]\n",
        "epochs = [10, 50, 100]\n",
        "learn_rate = [0.001, 0.01, 0.1]\n",
        "dropout_rate = [0.0, 0.1, 0.2]\n",
        "activation = ['softmax', 'relu', 'tanh', 'linear']\n",
        "init = ['uniform', 'normal', 'zero']\n",
        "\n",
        "# make a dictionary of grid search paramteres\n",
        "param_grid = dict(activation = activation, init = init)\n",
        "\n",
        "# Build & fit Gridsearch\n",
        "grid = GridSearchCV(estimator = model, param_grid = param_grid, cv = KFold(random_state=seed), verbose = 10)\n",
        "grid_results = grid.fit(X_standardized, Y)\n",
        "\n",
        "# Create summary\n",
        "print(\"Best: {0}, using {1}\".format(grid_results.best_score_, grid_results.best_params_))\n",
        "means = grid_results.cv_results_['mean_test_score']\n",
        "stds = grid_results.cv_results_['std_test_score']\n",
        "params = grid_results.cv_results_['params']\n",
        "for mean, stdev, param in zip(means, stds, params):\n",
        "  print('{0} ({1}) with: {2}'.format(mean, stdev, param))"
      ],
      "execution_count": 30,
      "outputs": [
        {
          "output_type": "stream",
          "name": "stderr",
          "text": [
            "/usr/local/lib/python3.7/dist-packages/sklearn/model_selection/_split.py:296: FutureWarning: Setting a random_state has no effect since shuffle is False. This will raise an error in 0.24. You should leave random_state to its default (None), or set shuffle=True.\n",
            "  FutureWarning\n",
            "[Parallel(n_jobs=1)]: Using backend SequentialBackend with 1 concurrent workers.\n"
          ]
        },
        {
          "output_type": "stream",
          "name": "stdout",
          "text": [
            "Fitting 5 folds for each of 12 candidates, totalling 60 fits\n",
            "[CV] activation=softmax, init=uniform ................................\n"
          ]
        },
        {
          "output_type": "stream",
          "name": "stderr",
          "text": [
            "/usr/local/lib/python3.7/dist-packages/keras/engine/training.py:2470: UserWarning: `Model.state_updates` will be removed in a future version. This property should not be used in TensorFlow 2.0, as `updates` are applied automatically.\n",
            "  warnings.warn('`Model.state_updates` will be removed in a future version. '\n"
          ]
        },
        {
          "output_type": "stream",
          "name": "stdout",
          "text": [
            "[CV] .... activation=softmax, init=uniform, score=0.797, total=  22.6s\n",
            "[CV] activation=softmax, init=uniform ................................\n"
          ]
        },
        {
          "output_type": "stream",
          "name": "stderr",
          "text": [
            "[Parallel(n_jobs=1)]: Done   1 out of   1 | elapsed:   22.6s remaining:    0.0s\n"
          ]
        },
        {
          "output_type": "stream",
          "name": "stdout",
          "text": [
            "[CV] .... activation=softmax, init=uniform, score=0.595, total=  22.2s\n",
            "[CV] activation=softmax, init=uniform ................................\n"
          ]
        },
        {
          "output_type": "stream",
          "name": "stderr",
          "text": [
            "[Parallel(n_jobs=1)]: Done   2 out of   2 | elapsed:   44.8s remaining:    0.0s\n"
          ]
        },
        {
          "output_type": "stream",
          "name": "stdout",
          "text": [
            "[CV] .... activation=softmax, init=uniform, score=0.821, total=  21.7s\n",
            "[CV] activation=softmax, init=uniform ................................\n"
          ]
        },
        {
          "output_type": "stream",
          "name": "stderr",
          "text": [
            "[Parallel(n_jobs=1)]: Done   3 out of   3 | elapsed:  1.1min remaining:    0.0s\n"
          ]
        },
        {
          "output_type": "stream",
          "name": "stdout",
          "text": [
            "[CV] .... activation=softmax, init=uniform, score=0.808, total=  22.2s\n",
            "[CV] activation=softmax, init=uniform ................................\n"
          ]
        },
        {
          "output_type": "stream",
          "name": "stderr",
          "text": [
            "[Parallel(n_jobs=1)]: Done   4 out of   4 | elapsed:  1.5min remaining:    0.0s\n"
          ]
        },
        {
          "output_type": "stream",
          "name": "stdout",
          "text": [
            "[CV] .... activation=softmax, init=uniform, score=0.821, total=  22.5s\n",
            "[CV] activation=softmax, init=normal .................................\n"
          ]
        },
        {
          "output_type": "stream",
          "name": "stderr",
          "text": [
            "[Parallel(n_jobs=1)]: Done   5 out of   5 | elapsed:  1.9min remaining:    0.0s\n"
          ]
        },
        {
          "output_type": "stream",
          "name": "stdout",
          "text": [
            "[CV] ..... activation=softmax, init=normal, score=0.797, total=  22.2s\n",
            "[CV] activation=softmax, init=normal .................................\n"
          ]
        },
        {
          "output_type": "stream",
          "name": "stderr",
          "text": [
            "[Parallel(n_jobs=1)]: Done   6 out of   6 | elapsed:  2.2min remaining:    0.0s\n"
          ]
        },
        {
          "output_type": "stream",
          "name": "stdout",
          "text": [
            "[CV] ..... activation=softmax, init=normal, score=0.582, total=  22.6s\n",
            "[CV] activation=softmax, init=normal .................................\n"
          ]
        },
        {
          "output_type": "stream",
          "name": "stderr",
          "text": [
            "[Parallel(n_jobs=1)]: Done   7 out of   7 | elapsed:  2.6min remaining:    0.0s\n"
          ]
        },
        {
          "output_type": "stream",
          "name": "stdout",
          "text": [
            "[CV] ..... activation=softmax, init=normal, score=0.808, total=  22.6s\n",
            "[CV] activation=softmax, init=normal .................................\n"
          ]
        },
        {
          "output_type": "stream",
          "name": "stderr",
          "text": [
            "[Parallel(n_jobs=1)]: Done   8 out of   8 | elapsed:  3.0min remaining:    0.0s\n"
          ]
        },
        {
          "output_type": "stream",
          "name": "stdout",
          "text": [
            "[CV] ..... activation=softmax, init=normal, score=0.821, total=  22.7s\n",
            "[CV] activation=softmax, init=normal .................................\n"
          ]
        },
        {
          "output_type": "stream",
          "name": "stderr",
          "text": [
            "[Parallel(n_jobs=1)]: Done   9 out of   9 | elapsed:  3.4min remaining:    0.0s\n"
          ]
        },
        {
          "output_type": "stream",
          "name": "stdout",
          "text": [
            "[CV] ..... activation=softmax, init=normal, score=0.808, total=  23.5s\n",
            "[CV] activation=softmax, init=zero ...................................\n",
            "[CV] ....... activation=softmax, init=zero, score=0.646, total=  23.5s\n",
            "[CV] activation=softmax, init=zero ...................................\n",
            "[CV] ....... activation=softmax, init=zero, score=0.570, total=  23.3s\n",
            "[CV] activation=softmax, init=zero ...................................\n",
            "[CV] ....... activation=softmax, init=zero, score=0.705, total=  23.7s\n",
            "[CV] activation=softmax, init=zero ...................................\n",
            "[CV] ....... activation=softmax, init=zero, score=0.744, total=  23.3s\n",
            "[CV] activation=softmax, init=zero ...................................\n",
            "[CV] ....... activation=softmax, init=zero, score=0.679, total=  23.6s\n",
            "[CV] activation=relu, init=uniform ...................................\n",
            "[CV] ....... activation=relu, init=uniform, score=0.734, total=  23.5s\n",
            "[CV] activation=relu, init=uniform ...................................\n",
            "[CV] ....... activation=relu, init=uniform, score=0.595, total=  23.3s\n",
            "[CV] activation=relu, init=uniform ...................................\n",
            "[CV] ....... activation=relu, init=uniform, score=0.821, total=  23.6s\n",
            "[CV] activation=relu, init=uniform ...................................\n",
            "[CV] ....... activation=relu, init=uniform, score=0.808, total=  24.0s\n",
            "[CV] activation=relu, init=uniform ...................................\n",
            "[CV] ....... activation=relu, init=uniform, score=0.821, total=  24.6s\n",
            "[CV] activation=relu, init=normal ....................................\n",
            "[CV] ........ activation=relu, init=normal, score=0.759, total=  25.3s\n",
            "[CV] activation=relu, init=normal ....................................\n",
            "[CV] ........ activation=relu, init=normal, score=0.620, total=  24.8s\n",
            "[CV] activation=relu, init=normal ....................................\n",
            "[CV] ........ activation=relu, init=normal, score=0.846, total=  25.4s\n",
            "[CV] activation=relu, init=normal ....................................\n",
            "[CV] ........ activation=relu, init=normal, score=0.833, total=  25.6s\n",
            "[CV] activation=relu, init=normal ....................................\n",
            "[CV] ........ activation=relu, init=normal, score=0.833, total=  25.6s\n",
            "[CV] activation=relu, init=zero ......................................\n",
            "[CV] .......... activation=relu, init=zero, score=0.646, total=  25.5s\n",
            "[CV] activation=relu, init=zero ......................................\n",
            "[CV] .......... activation=relu, init=zero, score=0.570, total=  25.6s\n",
            "[CV] activation=relu, init=zero ......................................\n",
            "[CV] .......... activation=relu, init=zero, score=0.705, total=  27.4s\n",
            "[CV] activation=relu, init=zero ......................................\n",
            "[CV] .......... activation=relu, init=zero, score=0.744, total=  27.0s\n",
            "[CV] activation=relu, init=zero ......................................\n",
            "[CV] .......... activation=relu, init=zero, score=0.679, total=  26.7s\n",
            "[CV] activation=tanh, init=uniform ...................................\n",
            "[CV] ....... activation=tanh, init=uniform, score=0.810, total=  26.4s\n",
            "[CV] activation=tanh, init=uniform ...................................\n",
            "[CV] ....... activation=tanh, init=uniform, score=0.595, total=  26.6s\n",
            "[CV] activation=tanh, init=uniform ...................................\n",
            "[CV] ....... activation=tanh, init=uniform, score=0.808, total=  26.7s\n",
            "[CV] activation=tanh, init=uniform ...................................\n",
            "[CV] ....... activation=tanh, init=uniform, score=0.833, total=  27.1s\n",
            "[CV] activation=tanh, init=uniform ...................................\n",
            "[CV] ....... activation=tanh, init=uniform, score=0.808, total=  27.5s\n",
            "[CV] activation=tanh, init=normal ....................................\n",
            "[CV] ........ activation=tanh, init=normal, score=0.797, total=  27.5s\n",
            "[CV] activation=tanh, init=normal ....................................\n",
            "[CV] ........ activation=tanh, init=normal, score=0.595, total=  27.5s\n",
            "[CV] activation=tanh, init=normal ....................................\n",
            "[CV] ........ activation=tanh, init=normal, score=0.808, total=  27.7s\n",
            "[CV] activation=tanh, init=normal ....................................\n",
            "[CV] ........ activation=tanh, init=normal, score=0.859, total=  27.6s\n",
            "[CV] activation=tanh, init=normal ....................................\n",
            "[CV] ........ activation=tanh, init=normal, score=0.808, total=  27.6s\n",
            "[CV] activation=tanh, init=zero ......................................\n",
            "[CV] .......... activation=tanh, init=zero, score=0.646, total=  27.4s\n",
            "[CV] activation=tanh, init=zero ......................................\n",
            "[CV] .......... activation=tanh, init=zero, score=0.570, total=  27.5s\n",
            "[CV] activation=tanh, init=zero ......................................\n",
            "[CV] .......... activation=tanh, init=zero, score=0.705, total=  27.8s\n",
            "[CV] activation=tanh, init=zero ......................................\n",
            "[CV] .......... activation=tanh, init=zero, score=0.744, total=  28.2s\n",
            "[CV] activation=tanh, init=zero ......................................\n",
            "[CV] .......... activation=tanh, init=zero, score=0.679, total=  28.2s\n",
            "[CV] activation=linear, init=uniform .................................\n",
            "[CV] ..... activation=linear, init=uniform, score=0.835, total=  28.4s\n",
            "[CV] activation=linear, init=uniform .................................\n",
            "[CV] ..... activation=linear, init=uniform, score=0.633, total=  29.1s\n",
            "[CV] activation=linear, init=uniform .................................\n",
            "[CV] ..... activation=linear, init=uniform, score=0.821, total=  28.8s\n",
            "[CV] activation=linear, init=uniform .................................\n",
            "[CV] ..... activation=linear, init=uniform, score=0.846, total=  28.7s\n",
            "[CV] activation=linear, init=uniform .................................\n",
            "[CV] ..... activation=linear, init=uniform, score=0.833, total=  29.3s\n",
            "[CV] activation=linear, init=normal ..................................\n",
            "[CV] ...... activation=linear, init=normal, score=0.835, total=  29.3s\n",
            "[CV] activation=linear, init=normal ..................................\n",
            "[CV] ...... activation=linear, init=normal, score=0.620, total=  29.6s\n",
            "[CV] activation=linear, init=normal ..................................\n",
            "[CV] ...... activation=linear, init=normal, score=0.821, total=  29.5s\n",
            "[CV] activation=linear, init=normal ..................................\n",
            "[CV] ...... activation=linear, init=normal, score=0.846, total=  29.7s\n",
            "[CV] activation=linear, init=normal ..................................\n",
            "[CV] ...... activation=linear, init=normal, score=0.833, total=  29.9s\n",
            "[CV] activation=linear, init=zero ....................................\n",
            "[CV] ........ activation=linear, init=zero, score=0.646, total=  30.7s\n",
            "[CV] activation=linear, init=zero ....................................\n",
            "[CV] ........ activation=linear, init=zero, score=0.570, total=  30.6s\n",
            "[CV] activation=linear, init=zero ....................................\n",
            "[CV] ........ activation=linear, init=zero, score=0.705, total=  30.6s\n",
            "[CV] activation=linear, init=zero ....................................\n",
            "[CV] ........ activation=linear, init=zero, score=0.744, total=  30.6s\n",
            "[CV] activation=linear, init=zero ....................................\n",
            "[CV] ........ activation=linear, init=zero, score=0.679, total=  34.7s\n"
          ]
        },
        {
          "output_type": "stream",
          "name": "stderr",
          "text": [
            "[Parallel(n_jobs=1)]: Done  60 out of  60 | elapsed: 26.4min finished\n"
          ]
        },
        {
          "output_type": "stream",
          "name": "stdout",
          "text": [
            "Best: 0.7936708807945252, using {'activation': 'linear', 'init': 'uniform'}\n",
            "0.7682246088981628 (0.08707433710668644) with: {'activation': 'softmax', 'init': 'uniform'}\n",
            "0.7631288528442383 (0.09072020335039667) with: {'activation': 'softmax', 'init': 'normal'}\n",
            "0.6686789989471436 (0.05899773033245815) with: {'activation': 'softmax', 'init': 'zero'}\n",
            "0.7555663824081421 (0.08650153072067562) with: {'activation': 'relu', 'init': 'uniform'}\n",
            "0.7785134553909302 (0.08484543127556896) with: {'activation': 'relu', 'init': 'normal'}\n",
            "0.6686789989471436 (0.05899773033245815) with: {'activation': 'relu', 'init': 'zero'}\n",
            "0.7707562446594238 (0.08843863374586168) with: {'activation': 'tanh', 'init': 'uniform'}\n",
            "0.7733528017997742 (0.09176415833128089) with: {'activation': 'tanh', 'init': 'normal'}\n",
            "0.6686789989471436 (0.05899773033245815) with: {'activation': 'tanh', 'init': 'zero'}\n",
            "0.7936708807945252 (0.08079181748331918) with: {'activation': 'linear', 'init': 'uniform'}\n",
            "0.7911392331123352 (0.08583080767748588) with: {'activation': 'linear', 'init': 'normal'}\n",
            "0.6686789989471436 (0.05899773033245815) with: {'activation': 'linear', 'init': 'zero'}\n"
          ]
        }
      ]
    },
    {
      "cell_type": "code",
      "metadata": {
        "colab": {
          "base_uri": "https://localhost:8080/"
        },
        "id": "08wTtO2WfDnx",
        "outputId": "b771416a-e8d6-4b87-82e7-01d8366a9eb5"
      },
      "source": [
        "# Define random seed\n",
        "seed = 6\n",
        "np.random.seed(seed)\n",
        "\n",
        "\n",
        "#Start defining the model\n",
        "\n",
        "def create_model(neuron1, neuron2):\n",
        "  # Create model\n",
        "  model = Sequential()\n",
        "  model.add(Dense(neuron1,input_dim=8,kernel_initializer='normal',activation='relu'))\n",
        "  model.add(Dense(neuron2,input_dim=8,kernel_initializer='normal',activation='relu'))\n",
        "  model.add(Dense(1,activation='sigmoid'))\n",
        "\n",
        "#compile the model\n",
        "  adam=Adam(lr=0.01)\n",
        "  model.compile(loss = 'binary_crossentropy', optimizer = adam, metrics = ['accuracy'])\n",
        "  return model\n",
        "\n",
        "# Create the model\n",
        "model = KerasClassifier(build_fn = create_model, verbose = 0)\n",
        "\n",
        "# Define the grid search parameters \n",
        "neuron1 = [4, 8, 16]\n",
        "neuron2 = [2, 4, 8]\n",
        "\n",
        "# make a dictionary of grid search paramteres\n",
        "param_grid = dict(neuron1 = neuron1, neuron2 = neuron2)\n",
        "\n",
        "# Build & fit Gridsearch\n",
        "grid = GridSearchCV(estimator = model, param_grid = param_grid, cv = KFold(random_state=seed), verbose = 10)\n",
        "grid_results = grid.fit(X_standardized, Y)\n",
        "\n",
        "# Create summary\n",
        "print(\"Best: {0}, using {1}\".format(grid_results.best_score_, grid_results.best_params_))\n",
        "means = grid_results.cv_results_['mean_test_score']\n",
        "stds = grid_results.cv_results_['std_test_score']\n",
        "params = grid_results.cv_results_['params']\n",
        "for mean, stdev, param in zip(means, stds, params):\n",
        "  print('{0} ({1}) with: {2}'.format(mean, stdev, param))"
      ],
      "execution_count": 31,
      "outputs": [
        {
          "output_type": "stream",
          "name": "stderr",
          "text": [
            "/usr/local/lib/python3.7/dist-packages/sklearn/model_selection/_split.py:296: FutureWarning: Setting a random_state has no effect since shuffle is False. This will raise an error in 0.24. You should leave random_state to its default (None), or set shuffle=True.\n",
            "  FutureWarning\n",
            "[Parallel(n_jobs=1)]: Using backend SequentialBackend with 1 concurrent workers.\n"
          ]
        },
        {
          "output_type": "stream",
          "name": "stdout",
          "text": [
            "Fitting 5 folds for each of 9 candidates, totalling 45 fits\n",
            "[CV] neuron1=4, neuron2=2 ............................................\n"
          ]
        },
        {
          "output_type": "stream",
          "name": "stderr",
          "text": [
            "/usr/local/lib/python3.7/dist-packages/keras/engine/training.py:2470: UserWarning: `Model.state_updates` will be removed in a future version. This property should not be used in TensorFlow 2.0, as `updates` are applied automatically.\n",
            "  warnings.warn('`Model.state_updates` will be removed in a future version. '\n"
          ]
        },
        {
          "output_type": "stream",
          "name": "stdout",
          "text": [
            "[CV] ................ neuron1=4, neuron2=2, score=0.646, total=  17.3s\n",
            "[CV] neuron1=4, neuron2=2 ............................................\n"
          ]
        },
        {
          "output_type": "stream",
          "name": "stderr",
          "text": [
            "[Parallel(n_jobs=1)]: Done   1 out of   1 | elapsed:   17.3s remaining:    0.0s\n"
          ]
        },
        {
          "output_type": "stream",
          "name": "stdout",
          "text": [
            "[CV] ................ neuron1=4, neuron2=2, score=0.570, total=  17.0s\n",
            "[CV] neuron1=4, neuron2=2 ............................................\n"
          ]
        },
        {
          "output_type": "stream",
          "name": "stderr",
          "text": [
            "[Parallel(n_jobs=1)]: Done   2 out of   2 | elapsed:   34.3s remaining:    0.0s\n"
          ]
        },
        {
          "output_type": "stream",
          "name": "stdout",
          "text": [
            "[CV] ................ neuron1=4, neuron2=2, score=0.782, total=  17.1s\n",
            "[CV] neuron1=4, neuron2=2 ............................................\n"
          ]
        },
        {
          "output_type": "stream",
          "name": "stderr",
          "text": [
            "[Parallel(n_jobs=1)]: Done   3 out of   3 | elapsed:   51.4s remaining:    0.0s\n"
          ]
        },
        {
          "output_type": "stream",
          "name": "stdout",
          "text": [
            "[CV] ................ neuron1=4, neuron2=2, score=0.744, total=  17.1s\n",
            "[CV] neuron1=4, neuron2=2 ............................................\n"
          ]
        },
        {
          "output_type": "stream",
          "name": "stderr",
          "text": [
            "[Parallel(n_jobs=1)]: Done   4 out of   4 | elapsed:  1.1min remaining:    0.0s\n"
          ]
        },
        {
          "output_type": "stream",
          "name": "stdout",
          "text": [
            "[CV] ................ neuron1=4, neuron2=2, score=0.679, total=  17.1s\n",
            "[CV] neuron1=4, neuron2=4 ............................................\n"
          ]
        },
        {
          "output_type": "stream",
          "name": "stderr",
          "text": [
            "[Parallel(n_jobs=1)]: Done   5 out of   5 | elapsed:  1.4min remaining:    0.0s\n"
          ]
        },
        {
          "output_type": "stream",
          "name": "stdout",
          "text": [
            "[CV] ................ neuron1=4, neuron2=4, score=0.646, total=  17.1s\n",
            "[CV] neuron1=4, neuron2=4 ............................................\n"
          ]
        },
        {
          "output_type": "stream",
          "name": "stderr",
          "text": [
            "[Parallel(n_jobs=1)]: Done   6 out of   6 | elapsed:  1.7min remaining:    0.0s\n"
          ]
        },
        {
          "output_type": "stream",
          "name": "stdout",
          "text": [
            "[CV] ................ neuron1=4, neuron2=4, score=0.570, total=  17.7s\n",
            "[CV] neuron1=4, neuron2=4 ............................................\n"
          ]
        },
        {
          "output_type": "stream",
          "name": "stderr",
          "text": [
            "[Parallel(n_jobs=1)]: Done   7 out of   7 | elapsed:  2.0min remaining:    0.0s\n"
          ]
        },
        {
          "output_type": "stream",
          "name": "stdout",
          "text": [
            "[CV] ................ neuron1=4, neuron2=4, score=0.705, total=  17.4s\n",
            "[CV] neuron1=4, neuron2=4 ............................................\n"
          ]
        },
        {
          "output_type": "stream",
          "name": "stderr",
          "text": [
            "[Parallel(n_jobs=1)]: Done   8 out of   8 | elapsed:  2.3min remaining:    0.0s\n"
          ]
        },
        {
          "output_type": "stream",
          "name": "stdout",
          "text": [
            "[CV] ................ neuron1=4, neuron2=4, score=0.744, total=  17.4s\n",
            "[CV] neuron1=4, neuron2=4 ............................................\n"
          ]
        },
        {
          "output_type": "stream",
          "name": "stderr",
          "text": [
            "[Parallel(n_jobs=1)]: Done   9 out of   9 | elapsed:  2.6min remaining:    0.0s\n"
          ]
        },
        {
          "output_type": "stream",
          "name": "stdout",
          "text": [
            "[CV] ................ neuron1=4, neuron2=4, score=0.679, total=  17.7s\n",
            "[CV] neuron1=4, neuron2=8 ............................................\n",
            "[CV] ................ neuron1=4, neuron2=8, score=0.646, total=  17.7s\n",
            "[CV] neuron1=4, neuron2=8 ............................................\n",
            "[CV] ................ neuron1=4, neuron2=8, score=0.570, total=  17.7s\n",
            "[CV] neuron1=4, neuron2=8 ............................................\n",
            "[CV] ................ neuron1=4, neuron2=8, score=0.705, total=  17.6s\n",
            "[CV] neuron1=4, neuron2=8 ............................................\n",
            "[CV] ................ neuron1=4, neuron2=8, score=0.744, total=  17.7s\n",
            "[CV] neuron1=4, neuron2=8 ............................................\n",
            "[CV] ................ neuron1=4, neuron2=8, score=0.679, total=  17.7s\n",
            "[CV] neuron1=8, neuron2=2 ............................................\n",
            "[CV] ................ neuron1=8, neuron2=2, score=0.646, total=  17.9s\n",
            "[CV] neuron1=8, neuron2=2 ............................................\n",
            "[CV] ................ neuron1=8, neuron2=2, score=0.570, total=  17.8s\n",
            "[CV] neuron1=8, neuron2=2 ............................................\n",
            "[CV] ................ neuron1=8, neuron2=2, score=0.705, total=  18.0s\n",
            "[CV] neuron1=8, neuron2=2 ............................................\n",
            "[CV] ................ neuron1=8, neuron2=2, score=0.821, total=  18.0s\n",
            "[CV] neuron1=8, neuron2=2 ............................................\n",
            "[CV] ................ neuron1=8, neuron2=2, score=0.769, total=  18.1s\n",
            "[CV] neuron1=8, neuron2=4 ............................................\n",
            "[CV] ................ neuron1=8, neuron2=4, score=0.696, total=  18.0s\n",
            "[CV] neuron1=8, neuron2=4 ............................................\n",
            "[CV] ................ neuron1=8, neuron2=4, score=0.658, total=  18.0s\n",
            "[CV] neuron1=8, neuron2=4 ............................................\n",
            "[CV] ................ neuron1=8, neuron2=4, score=0.756, total=  18.0s\n",
            "[CV] neuron1=8, neuron2=4 ............................................\n",
            "[CV] ................ neuron1=8, neuron2=4, score=0.744, total=  18.1s\n",
            "[CV] neuron1=8, neuron2=4 ............................................\n",
            "[CV] ................ neuron1=8, neuron2=4, score=0.679, total=  21.5s\n",
            "[CV] neuron1=8, neuron2=8 ............................................\n",
            "[CV] ................ neuron1=8, neuron2=8, score=0.646, total=  19.2s\n",
            "[CV] neuron1=8, neuron2=8 ............................................\n",
            "[CV] ................ neuron1=8, neuron2=8, score=0.582, total=  19.1s\n",
            "[CV] neuron1=8, neuron2=8 ............................................\n",
            "[CV] ................ neuron1=8, neuron2=8, score=0.705, total=  19.1s\n",
            "[CV] neuron1=8, neuron2=8 ............................................\n",
            "[CV] ................ neuron1=8, neuron2=8, score=0.769, total=  19.1s\n",
            "[CV] neuron1=8, neuron2=8 ............................................\n",
            "[CV] ................ neuron1=8, neuron2=8, score=0.692, total=  19.1s\n",
            "[CV] neuron1=16, neuron2=2 ...........................................\n",
            "[CV] ............... neuron1=16, neuron2=2, score=0.835, total=  19.1s\n",
            "[CV] neuron1=16, neuron2=2 ...........................................\n",
            "[CV] ............... neuron1=16, neuron2=2, score=0.633, total=  19.4s\n",
            "[CV] neuron1=16, neuron2=2 ...........................................\n",
            "[CV] ............... neuron1=16, neuron2=2, score=0.705, total=  19.3s\n",
            "[CV] neuron1=16, neuron2=2 ...........................................\n",
            "[CV] ............... neuron1=16, neuron2=2, score=0.756, total=  19.1s\n",
            "[CV] neuron1=16, neuron2=2 ...........................................\n",
            "[CV] ............... neuron1=16, neuron2=2, score=0.679, total=  19.1s\n",
            "[CV] neuron1=16, neuron2=4 ...........................................\n",
            "[CV] ............... neuron1=16, neuron2=4, score=0.759, total=  19.0s\n",
            "[CV] neuron1=16, neuron2=4 ...........................................\n",
            "[CV] ............... neuron1=16, neuron2=4, score=0.570, total=  18.8s\n",
            "[CV] neuron1=16, neuron2=4 ...........................................\n",
            "[CV] ............... neuron1=16, neuron2=4, score=0.795, total=  19.1s\n",
            "[CV] neuron1=16, neuron2=4 ...........................................\n",
            "[CV] ............... neuron1=16, neuron2=4, score=0.808, total=  19.1s\n",
            "[CV] neuron1=16, neuron2=4 ...........................................\n",
            "[CV] ............... neuron1=16, neuron2=4, score=0.744, total=  19.0s\n",
            "[CV] neuron1=16, neuron2=8 ...........................................\n",
            "[CV] ............... neuron1=16, neuron2=8, score=0.646, total=  19.0s\n",
            "[CV] neuron1=16, neuron2=8 ...........................................\n",
            "[CV] ............... neuron1=16, neuron2=8, score=0.608, total=  19.0s\n",
            "[CV] neuron1=16, neuron2=8 ...........................................\n",
            "[CV] ............... neuron1=16, neuron2=8, score=0.846, total=  19.1s\n",
            "[CV] neuron1=16, neuron2=8 ...........................................\n",
            "[CV] ............... neuron1=16, neuron2=8, score=0.756, total=  19.2s\n",
            "[CV] neuron1=16, neuron2=8 ...........................................\n",
            "[CV] ............... neuron1=16, neuron2=8, score=0.667, total=  19.4s\n"
          ]
        },
        {
          "output_type": "stream",
          "name": "stderr",
          "text": [
            "[Parallel(n_jobs=1)]: Done  45 out of  45 | elapsed: 13.8min finished\n"
          ]
        },
        {
          "output_type": "stream",
          "name": "stdout",
          "text": [
            "Best: 0.735053551197052, using {'neuron1': 16, 'neuron2': 4}\n",
            "0.6840636134147644 (0.07449155137960824) with: {'neuron1': 4, 'neuron2': 2}\n",
            "0.6686789989471436 (0.05899773033245815) with: {'neuron1': 4, 'neuron2': 4}\n",
            "0.6686789989471436 (0.05899773033245815) with: {'neuron1': 4, 'neuron2': 8}\n",
            "0.7020123362541199 (0.08863841091434177) with: {'neuron1': 8, 'neuron2': 2}\n",
            "0.7067835092544555 (0.03750256290195566) with: {'neuron1': 8, 'neuron2': 4}\n",
            "0.6789029598236084 (0.06240827727746658) with: {'neuron1': 8, 'neuron2': 8}\n",
            "0.7218760013580322 (0.06940041317881047) with: {'neuron1': 16, 'neuron2': 2}\n",
            "0.735053551197052 (0.08589874485631624) with: {'neuron1': 16, 'neuron2': 4}\n",
            "0.7044790625572205 (0.0860874342311311) with: {'neuron1': 16, 'neuron2': 8}\n"
          ]
        }
      ]
    },
    {
      "cell_type": "code",
      "metadata": {
        "colab": {
          "base_uri": "https://localhost:8080/"
        },
        "id": "sLXwjG2KgcF0",
        "outputId": "015af31a-7f23-4a7a-f83c-0a846abb1198"
      },
      "source": [
        "# generate predictions with optimal hyperparameters\n",
        "y_pred = grid.predict(X_standardized)\n",
        "\n",
        "from sklearn.metrics import classification_report, accuracy_score\n",
        "\n",
        "print(accuracy_score(Y, y_pred))\n",
        "print(classification_report(Y, y_pred))"
      ],
      "execution_count": 32,
      "outputs": [
        {
          "output_type": "stream",
          "name": "stderr",
          "text": [
            "/usr/local/lib/python3.7/dist-packages/keras/engine/training.py:2470: UserWarning: `Model.state_updates` will be removed in a future version. This property should not be used in TensorFlow 2.0, as `updates` are applied automatically.\n",
            "  warnings.warn('`Model.state_updates` will be removed in a future version. '\n"
          ]
        },
        {
          "output_type": "stream",
          "name": "stdout",
          "text": [
            "0.6683673469387755\n",
            "              precision    recall  f1-score   support\n",
            "\n",
            "           0       0.67      1.00      0.80       262\n",
            "           1       0.00      0.00      0.00       130\n",
            "\n",
            "    accuracy                           0.67       392\n",
            "   macro avg       0.33      0.50      0.40       392\n",
            "weighted avg       0.45      0.67      0.54       392\n",
            "\n"
          ]
        },
        {
          "output_type": "stream",
          "name": "stderr",
          "text": [
            "/usr/local/lib/python3.7/dist-packages/sklearn/metrics/_classification.py:1272: UndefinedMetricWarning: Precision and F-score are ill-defined and being set to 0.0 in labels with no predicted samples. Use `zero_division` parameter to control this behavior.\n",
            "  _warn_prf(average, modifier, msg_start, len(result))\n"
          ]
        }
      ]
    },
    {
      "cell_type": "code",
      "metadata": {
        "colab": {
          "base_uri": "https://localhost:8080/"
        },
        "id": "zG0wF9CchAL0",
        "outputId": "51686572-dc54-461f-fdef-56d8f53c5c28"
      },
      "source": [
        "example = df.iloc[1]\n",
        "print(example)\n",
        "\n",
        "prediction = grid.predict(X_standardized[1].reshape(1, -1))\n",
        "print(prediction)\n"
      ],
      "execution_count": 33,
      "outputs": [
        {
          "output_type": "stream",
          "name": "stdout",
          "text": [
            "n_pregnant                   0.000\n",
            "glucose_concentration      137.000\n",
            "blood_pressure (mm Hg)      40.000\n",
            "skin_thickness (mm)         35.000\n",
            "serum_insulin (mm U/ml)    168.000\n",
            "BMI                         43.100\n",
            "pedigree_funcation           2.288\n",
            "age                         33.000\n",
            "class                        1.000\n",
            "Name: 4, dtype: float64\n",
            "[[0]]\n"
          ]
        }
      ]
    }
  ]
}